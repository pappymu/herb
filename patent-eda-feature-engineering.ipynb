{
 "cells": [
  {
   "cell_type": "markdown",
   "id": "a461ce89",
   "metadata": {
    "papermill": {
     "duration": 0.052264,
     "end_time": "2022-03-30T05:53:44.353037",
     "exception": false,
     "start_time": "2022-03-30T05:53:44.300773",
     "status": "completed"
    },
    "tags": []
   },
   "source": [
    "# Introduction\n",
    "---\n",
    "This is our attempt at the [US Patent Phrase-to-phrase Matching](https://www.kaggle.com/competitions/us-patent-phrase-to-phrase-matching) Kaggle competition. From a large, text-based dataset derived from inventions, we are tasked to train models on a novel semantic similarity dataset to extract relevant information by matching key phrases in patent documents."
   ]
  },
  {
   "cell_type": "markdown",
   "id": "d1005677",
   "metadata": {
    "papermill": {
     "duration": 0.047293,
     "end_time": "2022-03-30T05:53:44.451378",
     "exception": false,
     "start_time": "2022-03-30T05:53:44.404085",
     "status": "completed"
    },
    "tags": []
   },
   "source": [
    "# Imports and Data\n",
    "---"
   ]
  },
  {
   "cell_type": "code",
   "execution_count": 1,
   "id": "6471f99c",
   "metadata": {
    "_cell_guid": "b1076dfc-b9ad-4769-8c92-a6c4dae69d19",
    "_uuid": "8f2839f25d086af736a60e9eeb907d3b93b6e0e5",
    "execution": {
     "iopub.execute_input": "2022-03-30T05:53:44.541691Z",
     "iopub.status.busy": "2022-03-30T05:53:44.540779Z",
     "iopub.status.idle": "2022-03-30T05:53:57.478994Z",
     "shell.execute_reply": "2022-03-30T05:53:57.479482Z",
     "shell.execute_reply.started": "2022-03-30T05:38:13.432643Z"
    },
    "papermill": {
     "duration": 12.983978,
     "end_time": "2022-03-30T05:53:57.479758",
     "exception": false,
     "start_time": "2022-03-30T05:53:44.495780",
     "status": "completed"
    },
    "tags": []
   },
   "outputs": [],
   "source": [
    "import numpy as np\n",
    "import pandas as pd\n",
    "import matplotlib.pyplot as plt\n",
    "import seaborn as sns\n",
    "from collections import Counter\n",
    "\n",
    "import spacy\n",
    "import torch\n",
    "from tqdm import tqdm\n",
    "tqdm.pandas(bar_format='{desc:<5.5}{percentage:3.0f}%|{bar:50}{r_bar}')\n",
    "from sklearn.feature_extraction.text import CountVectorizer, TfidfVectorizer"
   ]
  },
  {
   "cell_type": "code",
   "execution_count": 2,
   "id": "eca3d692",
   "metadata": {
    "execution": {
     "iopub.execute_input": "2022-03-30T05:53:57.579660Z",
     "iopub.status.busy": "2022-03-30T05:53:57.579007Z",
     "iopub.status.idle": "2022-03-30T05:53:57.707361Z",
     "shell.execute_reply": "2022-03-30T05:53:57.708081Z",
     "shell.execute_reply.started": "2022-03-30T05:38:23.379561Z"
    },
    "papermill": {
     "duration": 0.178807,
     "end_time": "2022-03-30T05:53:57.708305",
     "exception": false,
     "start_time": "2022-03-30T05:53:57.529498",
     "status": "completed"
    },
    "tags": []
   },
   "outputs": [],
   "source": [
    "train = pd.read_csv('../input/us-patent-phrase-to-phrase-matching/train.csv')\n",
    "test = pd.read_csv('../input/us-patent-phrase-to-phrase-matching/test.csv')\n",
    "sub = pd.read_csv('../input/us-patent-phrase-to-phrase-matching/sample_submission.csv')"
   ]
  },
  {
   "cell_type": "code",
   "execution_count": 3,
   "id": "118cf0e7",
   "metadata": {
    "execution": {
     "iopub.execute_input": "2022-03-30T05:53:57.850419Z",
     "iopub.status.busy": "2022-03-30T05:53:57.849497Z",
     "iopub.status.idle": "2022-03-30T05:53:57.889022Z",
     "shell.execute_reply": "2022-03-30T05:53:57.889719Z",
     "shell.execute_reply.started": "2022-03-30T05:38:23.505321Z"
    },
    "papermill": {
     "duration": 0.111938,
     "end_time": "2022-03-30T05:53:57.889939",
     "exception": false,
     "start_time": "2022-03-30T05:53:57.778001",
     "status": "completed"
    },
    "tags": []
   },
   "outputs": [
    {
     "name": "stdout",
     "output_type": "stream",
     "text": [
      "<class 'pandas.core.frame.DataFrame'>\n",
      "RangeIndex: 36473 entries, 0 to 36472\n",
      "Data columns (total 5 columns):\n",
      " #   Column   Non-Null Count  Dtype  \n",
      "---  ------   --------------  -----  \n",
      " 0   id       36473 non-null  object \n",
      " 1   anchor   36473 non-null  object \n",
      " 2   target   36473 non-null  object \n",
      " 3   context  36473 non-null  object \n",
      " 4   score    36473 non-null  float64\n",
      "dtypes: float64(1), object(4)\n",
      "memory usage: 1.4+ MB\n"
     ]
    }
   ],
   "source": [
    "train.info()"
   ]
  },
  {
   "cell_type": "code",
   "execution_count": 4,
   "id": "1b19aadc",
   "metadata": {
    "execution": {
     "iopub.execute_input": "2022-03-30T05:53:58.030592Z",
     "iopub.status.busy": "2022-03-30T05:53:58.029655Z",
     "iopub.status.idle": "2022-03-30T05:53:58.048418Z",
     "shell.execute_reply": "2022-03-30T05:53:58.048984Z",
     "shell.execute_reply.started": "2022-03-30T05:38:23.554885Z"
    },
    "papermill": {
     "duration": 0.089533,
     "end_time": "2022-03-30T05:53:58.049189",
     "exception": false,
     "start_time": "2022-03-30T05:53:57.959656",
     "status": "completed"
    },
    "tags": []
   },
   "outputs": [
    {
     "data": {
      "text/html": [
       "<div>\n",
       "<style scoped>\n",
       "    .dataframe tbody tr th:only-of-type {\n",
       "        vertical-align: middle;\n",
       "    }\n",
       "\n",
       "    .dataframe tbody tr th {\n",
       "        vertical-align: top;\n",
       "    }\n",
       "\n",
       "    .dataframe thead th {\n",
       "        text-align: right;\n",
       "    }\n",
       "</style>\n",
       "<table border=\"1\" class=\"dataframe\">\n",
       "  <thead>\n",
       "    <tr style=\"text-align: right;\">\n",
       "      <th></th>\n",
       "      <th>id</th>\n",
       "      <th>anchor</th>\n",
       "      <th>target</th>\n",
       "      <th>context</th>\n",
       "      <th>score</th>\n",
       "    </tr>\n",
       "  </thead>\n",
       "  <tbody>\n",
       "    <tr>\n",
       "      <th>0</th>\n",
       "      <td>37d61fd2272659b1</td>\n",
       "      <td>abatement</td>\n",
       "      <td>abatement of pollution</td>\n",
       "      <td>A47</td>\n",
       "      <td>0.50</td>\n",
       "    </tr>\n",
       "    <tr>\n",
       "      <th>1</th>\n",
       "      <td>7b9652b17b68b7a4</td>\n",
       "      <td>abatement</td>\n",
       "      <td>act of abating</td>\n",
       "      <td>A47</td>\n",
       "      <td>0.75</td>\n",
       "    </tr>\n",
       "    <tr>\n",
       "      <th>2</th>\n",
       "      <td>36d72442aefd8232</td>\n",
       "      <td>abatement</td>\n",
       "      <td>active catalyst</td>\n",
       "      <td>A47</td>\n",
       "      <td>0.25</td>\n",
       "    </tr>\n",
       "    <tr>\n",
       "      <th>3</th>\n",
       "      <td>5296b0c19e1ce60e</td>\n",
       "      <td>abatement</td>\n",
       "      <td>eliminating process</td>\n",
       "      <td>A47</td>\n",
       "      <td>0.50</td>\n",
       "    </tr>\n",
       "    <tr>\n",
       "      <th>4</th>\n",
       "      <td>54c1e3b9184cb5b6</td>\n",
       "      <td>abatement</td>\n",
       "      <td>forest region</td>\n",
       "      <td>A47</td>\n",
       "      <td>0.00</td>\n",
       "    </tr>\n",
       "    <tr>\n",
       "      <th>5</th>\n",
       "      <td>067203128142739c</td>\n",
       "      <td>abatement</td>\n",
       "      <td>greenhouse gases</td>\n",
       "      <td>A47</td>\n",
       "      <td>0.25</td>\n",
       "    </tr>\n",
       "    <tr>\n",
       "      <th>6</th>\n",
       "      <td>061d17f04be2d1cf</td>\n",
       "      <td>abatement</td>\n",
       "      <td>increased rate</td>\n",
       "      <td>A47</td>\n",
       "      <td>0.25</td>\n",
       "    </tr>\n",
       "    <tr>\n",
       "      <th>7</th>\n",
       "      <td>e1f44e48399a2027</td>\n",
       "      <td>abatement</td>\n",
       "      <td>measurement level</td>\n",
       "      <td>A47</td>\n",
       "      <td>0.25</td>\n",
       "    </tr>\n",
       "    <tr>\n",
       "      <th>8</th>\n",
       "      <td>0a425937a3e86d10</td>\n",
       "      <td>abatement</td>\n",
       "      <td>minimising sounds</td>\n",
       "      <td>A47</td>\n",
       "      <td>0.50</td>\n",
       "    </tr>\n",
       "    <tr>\n",
       "      <th>9</th>\n",
       "      <td>ef2d4c2e6bbb208d</td>\n",
       "      <td>abatement</td>\n",
       "      <td>mixing core materials</td>\n",
       "      <td>A47</td>\n",
       "      <td>0.25</td>\n",
       "    </tr>\n",
       "  </tbody>\n",
       "</table>\n",
       "</div>"
      ],
      "text/plain": [
       "                 id     anchor                  target context  score\n",
       "0  37d61fd2272659b1  abatement  abatement of pollution     A47   0.50\n",
       "1  7b9652b17b68b7a4  abatement          act of abating     A47   0.75\n",
       "2  36d72442aefd8232  abatement         active catalyst     A47   0.25\n",
       "3  5296b0c19e1ce60e  abatement     eliminating process     A47   0.50\n",
       "4  54c1e3b9184cb5b6  abatement           forest region     A47   0.00\n",
       "5  067203128142739c  abatement        greenhouse gases     A47   0.25\n",
       "6  061d17f04be2d1cf  abatement          increased rate     A47   0.25\n",
       "7  e1f44e48399a2027  abatement       measurement level     A47   0.25\n",
       "8  0a425937a3e86d10  abatement       minimising sounds     A47   0.50\n",
       "9  ef2d4c2e6bbb208d  abatement   mixing core materials     A47   0.25"
      ]
     },
     "execution_count": 4,
     "metadata": {},
     "output_type": "execute_result"
    }
   ],
   "source": [
    "train.head(10)"
   ]
  },
  {
   "cell_type": "code",
   "execution_count": 5,
   "id": "7ca1b9f5",
   "metadata": {
    "execution": {
     "iopub.execute_input": "2022-03-30T05:53:58.188291Z",
     "iopub.status.busy": "2022-03-30T05:53:58.187317Z",
     "iopub.status.idle": "2022-03-30T05:53:58.201797Z",
     "shell.execute_reply": "2022-03-30T05:53:58.202290Z",
     "shell.execute_reply.started": "2022-03-30T05:38:23.580769Z"
    },
    "papermill": {
     "duration": 0.085094,
     "end_time": "2022-03-30T05:53:58.202448",
     "exception": false,
     "start_time": "2022-03-30T05:53:58.117354",
     "status": "completed"
    },
    "tags": []
   },
   "outputs": [
    {
     "name": "stdout",
     "output_type": "stream",
     "text": [
      "<class 'pandas.core.frame.DataFrame'>\n",
      "RangeIndex: 36 entries, 0 to 35\n",
      "Data columns (total 4 columns):\n",
      " #   Column   Non-Null Count  Dtype \n",
      "---  ------   --------------  ----- \n",
      " 0   id       36 non-null     object\n",
      " 1   anchor   36 non-null     object\n",
      " 2   target   36 non-null     object\n",
      " 3   context  36 non-null     object\n",
      "dtypes: object(4)\n",
      "memory usage: 1.2+ KB\n",
      "None\n",
      "~.~.~.~.~.~.~.~.~.~.~.~.~.~.~.~.~.~.~.~.~.~.~.~.~.~.~.~.~.~.~.~.~.~.~.~.~.~.~.~.\n",
      "                 id              anchor                         target context\n",
      "0  4112d61851461f60            opc drum  inorganic photoconductor drum     G02\n",
      "1  09e418c93a776564     adjust gas flow              altering gas flow     F23\n",
      "2  36baf228038e314b      lower trunnion                 lower locating     B60\n",
      "3  1f37ead645e7f0c8       cap component                  upper portion     D06\n",
      "4  71a5b6ad068d531f  neural stimulation      artificial neural network     H04\n"
     ]
    }
   ],
   "source": [
    "print(test.info())\n",
    "print('~.'*40)\n",
    "print(test.head())"
   ]
  },
  {
   "cell_type": "code",
   "execution_count": 6,
   "id": "66312211",
   "metadata": {
    "execution": {
     "iopub.execute_input": "2022-03-30T05:53:58.298334Z",
     "iopub.status.busy": "2022-03-30T05:53:58.297747Z",
     "iopub.status.idle": "2022-03-30T05:53:58.308541Z",
     "shell.execute_reply": "2022-03-30T05:53:58.308948Z",
     "shell.execute_reply.started": "2022-03-30T05:38:23.598507Z"
    },
    "papermill": {
     "duration": 0.061235,
     "end_time": "2022-03-30T05:53:58.309116",
     "exception": false,
     "start_time": "2022-03-30T05:53:58.247881",
     "status": "completed"
    },
    "tags": []
   },
   "outputs": [
    {
     "data": {
      "text/html": [
       "<div>\n",
       "<style scoped>\n",
       "    .dataframe tbody tr th:only-of-type {\n",
       "        vertical-align: middle;\n",
       "    }\n",
       "\n",
       "    .dataframe tbody tr th {\n",
       "        vertical-align: top;\n",
       "    }\n",
       "\n",
       "    .dataframe thead th {\n",
       "        text-align: right;\n",
       "    }\n",
       "</style>\n",
       "<table border=\"1\" class=\"dataframe\">\n",
       "  <thead>\n",
       "    <tr style=\"text-align: right;\">\n",
       "      <th></th>\n",
       "      <th>id</th>\n",
       "      <th>score</th>\n",
       "    </tr>\n",
       "  </thead>\n",
       "  <tbody>\n",
       "    <tr>\n",
       "      <th>0</th>\n",
       "      <td>4112d61851461f60</td>\n",
       "      <td>0</td>\n",
       "    </tr>\n",
       "    <tr>\n",
       "      <th>1</th>\n",
       "      <td>09e418c93a776564</td>\n",
       "      <td>0</td>\n",
       "    </tr>\n",
       "    <tr>\n",
       "      <th>2</th>\n",
       "      <td>36baf228038e314b</td>\n",
       "      <td>0</td>\n",
       "    </tr>\n",
       "    <tr>\n",
       "      <th>3</th>\n",
       "      <td>1f37ead645e7f0c8</td>\n",
       "      <td>0</td>\n",
       "    </tr>\n",
       "    <tr>\n",
       "      <th>4</th>\n",
       "      <td>71a5b6ad068d531f</td>\n",
       "      <td>0</td>\n",
       "    </tr>\n",
       "  </tbody>\n",
       "</table>\n",
       "</div>"
      ],
      "text/plain": [
       "                 id  score\n",
       "0  4112d61851461f60      0\n",
       "1  09e418c93a776564      0\n",
       "2  36baf228038e314b      0\n",
       "3  1f37ead645e7f0c8      0\n",
       "4  71a5b6ad068d531f      0"
      ]
     },
     "execution_count": 6,
     "metadata": {},
     "output_type": "execute_result"
    }
   ],
   "source": [
    "sub.head()"
   ]
  },
  {
   "cell_type": "markdown",
   "id": "271b443c",
   "metadata": {
    "papermill": {
     "duration": 0.048483,
     "end_time": "2022-03-30T05:53:58.404492",
     "exception": false,
     "start_time": "2022-03-30T05:53:58.356009",
     "status": "completed"
    },
    "tags": []
   },
   "source": [
    "# Data Processing\n",
    "---\n",
    "\n",
    "check for duplicated and nulls"
   ]
  },
  {
   "cell_type": "code",
   "execution_count": 7,
   "id": "9b487b7b",
   "metadata": {
    "execution": {
     "iopub.execute_input": "2022-03-30T05:53:58.497964Z",
     "iopub.status.busy": "2022-03-30T05:53:58.497450Z",
     "iopub.status.idle": "2022-03-30T05:53:58.509391Z",
     "shell.execute_reply": "2022-03-30T05:53:58.509889Z",
     "shell.execute_reply.started": "2022-03-30T05:38:23.617639Z"
    },
    "papermill": {
     "duration": 0.060456,
     "end_time": "2022-03-30T05:53:58.510037",
     "exception": false,
     "start_time": "2022-03-30T05:53:58.449581",
     "status": "completed"
    },
    "tags": []
   },
   "outputs": [
    {
     "data": {
      "text/plain": [
       "id         0\n",
       "anchor     0\n",
       "target     0\n",
       "context    0\n",
       "score      0\n",
       "dtype: int64"
      ]
     },
     "execution_count": 7,
     "metadata": {},
     "output_type": "execute_result"
    }
   ],
   "source": [
    "train.isnull().sum(axis=0)"
   ]
  },
  {
   "cell_type": "code",
   "execution_count": 8,
   "id": "eadb5139",
   "metadata": {
    "execution": {
     "iopub.execute_input": "2022-03-30T05:53:58.607178Z",
     "iopub.status.busy": "2022-03-30T05:53:58.606592Z",
     "iopub.status.idle": "2022-03-30T05:53:58.633843Z",
     "shell.execute_reply": "2022-03-30T05:53:58.634391Z",
     "shell.execute_reply.started": "2022-03-30T05:38:23.652416Z"
    },
    "papermill": {
     "duration": 0.078327,
     "end_time": "2022-03-30T05:53:58.634538",
     "exception": false,
     "start_time": "2022-03-30T05:53:58.556211",
     "status": "completed"
    },
    "tags": []
   },
   "outputs": [
    {
     "data": {
      "text/plain": [
       "0"
      ]
     },
     "execution_count": 8,
     "metadata": {},
     "output_type": "execute_result"
    }
   ],
   "source": [
    "train.duplicated().sum()"
   ]
  },
  {
   "cell_type": "code",
   "execution_count": 9,
   "id": "654e93bc",
   "metadata": {
    "execution": {
     "iopub.execute_input": "2022-03-30T05:53:58.729923Z",
     "iopub.status.busy": "2022-03-30T05:53:58.729392Z",
     "iopub.status.idle": "2022-03-30T05:53:58.741837Z",
     "shell.execute_reply": "2022-03-30T05:53:58.742250Z",
     "shell.execute_reply.started": "2022-03-30T05:38:23.690072Z"
    },
    "papermill": {
     "duration": 0.061251,
     "end_time": "2022-03-30T05:53:58.742400",
     "exception": false,
     "start_time": "2022-03-30T05:53:58.681149",
     "status": "completed"
    },
    "tags": []
   },
   "outputs": [
    {
     "data": {
      "text/html": [
       "<div>\n",
       "<style scoped>\n",
       "    .dataframe tbody tr th:only-of-type {\n",
       "        vertical-align: middle;\n",
       "    }\n",
       "\n",
       "    .dataframe tbody tr th {\n",
       "        vertical-align: top;\n",
       "    }\n",
       "\n",
       "    .dataframe thead th {\n",
       "        text-align: right;\n",
       "    }\n",
       "</style>\n",
       "<table border=\"1\" class=\"dataframe\">\n",
       "  <thead>\n",
       "    <tr style=\"text-align: right;\">\n",
       "      <th></th>\n",
       "      <th>id</th>\n",
       "      <th>anchor</th>\n",
       "      <th>target</th>\n",
       "      <th>context</th>\n",
       "      <th>score</th>\n",
       "    </tr>\n",
       "  </thead>\n",
       "  <tbody>\n",
       "    <tr>\n",
       "      <th>0</th>\n",
       "      <td>37d61fd2272659b1</td>\n",
       "      <td>abatement</td>\n",
       "      <td>abatement of pollution</td>\n",
       "      <td>A47</td>\n",
       "      <td>0.50</td>\n",
       "    </tr>\n",
       "    <tr>\n",
       "      <th>1</th>\n",
       "      <td>7b9652b17b68b7a4</td>\n",
       "      <td>abatement</td>\n",
       "      <td>act of abating</td>\n",
       "      <td>A47</td>\n",
       "      <td>0.75</td>\n",
       "    </tr>\n",
       "    <tr>\n",
       "      <th>2</th>\n",
       "      <td>36d72442aefd8232</td>\n",
       "      <td>abatement</td>\n",
       "      <td>active catalyst</td>\n",
       "      <td>A47</td>\n",
       "      <td>0.25</td>\n",
       "    </tr>\n",
       "    <tr>\n",
       "      <th>3</th>\n",
       "      <td>5296b0c19e1ce60e</td>\n",
       "      <td>abatement</td>\n",
       "      <td>eliminating process</td>\n",
       "      <td>A47</td>\n",
       "      <td>0.50</td>\n",
       "    </tr>\n",
       "    <tr>\n",
       "      <th>4</th>\n",
       "      <td>54c1e3b9184cb5b6</td>\n",
       "      <td>abatement</td>\n",
       "      <td>forest region</td>\n",
       "      <td>A47</td>\n",
       "      <td>0.00</td>\n",
       "    </tr>\n",
       "    <tr>\n",
       "      <th>5</th>\n",
       "      <td>067203128142739c</td>\n",
       "      <td>abatement</td>\n",
       "      <td>greenhouse gases</td>\n",
       "      <td>A47</td>\n",
       "      <td>0.25</td>\n",
       "    </tr>\n",
       "    <tr>\n",
       "      <th>6</th>\n",
       "      <td>061d17f04be2d1cf</td>\n",
       "      <td>abatement</td>\n",
       "      <td>increased rate</td>\n",
       "      <td>A47</td>\n",
       "      <td>0.25</td>\n",
       "    </tr>\n",
       "    <tr>\n",
       "      <th>7</th>\n",
       "      <td>e1f44e48399a2027</td>\n",
       "      <td>abatement</td>\n",
       "      <td>measurement level</td>\n",
       "      <td>A47</td>\n",
       "      <td>0.25</td>\n",
       "    </tr>\n",
       "    <tr>\n",
       "      <th>8</th>\n",
       "      <td>0a425937a3e86d10</td>\n",
       "      <td>abatement</td>\n",
       "      <td>minimising sounds</td>\n",
       "      <td>A47</td>\n",
       "      <td>0.50</td>\n",
       "    </tr>\n",
       "    <tr>\n",
       "      <th>9</th>\n",
       "      <td>ef2d4c2e6bbb208d</td>\n",
       "      <td>abatement</td>\n",
       "      <td>mixing core materials</td>\n",
       "      <td>A47</td>\n",
       "      <td>0.25</td>\n",
       "    </tr>\n",
       "  </tbody>\n",
       "</table>\n",
       "</div>"
      ],
      "text/plain": [
       "                 id     anchor                  target context  score\n",
       "0  37d61fd2272659b1  abatement  abatement of pollution     A47   0.50\n",
       "1  7b9652b17b68b7a4  abatement          act of abating     A47   0.75\n",
       "2  36d72442aefd8232  abatement         active catalyst     A47   0.25\n",
       "3  5296b0c19e1ce60e  abatement     eliminating process     A47   0.50\n",
       "4  54c1e3b9184cb5b6  abatement           forest region     A47   0.00\n",
       "5  067203128142739c  abatement        greenhouse gases     A47   0.25\n",
       "6  061d17f04be2d1cf  abatement          increased rate     A47   0.25\n",
       "7  e1f44e48399a2027  abatement       measurement level     A47   0.25\n",
       "8  0a425937a3e86d10  abatement       minimising sounds     A47   0.50\n",
       "9  ef2d4c2e6bbb208d  abatement   mixing core materials     A47   0.25"
      ]
     },
     "execution_count": 9,
     "metadata": {},
     "output_type": "execute_result"
    }
   ],
   "source": [
    "train.head(10)"
   ]
  },
  {
   "cell_type": "markdown",
   "id": "b093b675",
   "metadata": {
    "papermill": {
     "duration": 0.046818,
     "end_time": "2022-03-30T05:53:58.836556",
     "exception": false,
     "start_time": "2022-03-30T05:53:58.789738",
     "status": "completed"
    },
    "tags": []
   },
   "source": [
    "no null or duplicated values, not much cleaning to do."
   ]
  },
  {
   "cell_type": "markdown",
   "id": "a3cb9722",
   "metadata": {
    "papermill": {
     "duration": 0.045843,
     "end_time": "2022-03-30T05:53:58.929439",
     "exception": false,
     "start_time": "2022-03-30T05:53:58.883596",
     "status": "completed"
    },
    "tags": []
   },
   "source": [
    "# EDA\n",
    "---\n",
    "column by column approach"
   ]
  },
  {
   "cell_type": "markdown",
   "id": "28abe998",
   "metadata": {
    "papermill": {
     "duration": 0.045456,
     "end_time": "2022-03-30T05:53:59.021851",
     "exception": false,
     "start_time": "2022-03-30T05:53:58.976395",
     "status": "completed"
    },
    "tags": []
   },
   "source": [
    "## anchor column\n",
    "\n",
    "`anchor` column provides the topics which need to be matched with the `target` column. we can first examine the frequency of the number of targets per anchor."
   ]
  },
  {
   "cell_type": "code",
   "execution_count": 10,
   "id": "d42f8cf4",
   "metadata": {
    "execution": {
     "iopub.execute_input": "2022-03-30T05:53:59.115209Z",
     "iopub.status.busy": "2022-03-30T05:53:59.114533Z",
     "iopub.status.idle": "2022-03-30T05:53:59.122101Z",
     "shell.execute_reply": "2022-03-30T05:53:59.122595Z",
     "shell.execute_reply.started": "2022-03-30T05:38:23.710547Z"
    },
    "papermill": {
     "duration": 0.056502,
     "end_time": "2022-03-30T05:53:59.122728",
     "exception": false,
     "start_time": "2022-03-30T05:53:59.066226",
     "status": "completed"
    },
    "tags": []
   },
   "outputs": [
    {
     "data": {
      "text/plain": [
       "733"
      ]
     },
     "execution_count": 10,
     "metadata": {},
     "output_type": "execute_result"
    }
   ],
   "source": [
    "train.anchor.nunique()"
   ]
  },
  {
   "cell_type": "code",
   "execution_count": 11,
   "id": "45f20b7d",
   "metadata": {
    "execution": {
     "iopub.execute_input": "2022-03-30T05:53:59.217034Z",
     "iopub.status.busy": "2022-03-30T05:53:59.216310Z",
     "iopub.status.idle": "2022-03-30T05:53:59.235531Z",
     "shell.execute_reply": "2022-03-30T05:53:59.234994Z",
     "shell.execute_reply.started": "2022-03-30T05:38:23.726839Z"
    },
    "papermill": {
     "duration": 0.067285,
     "end_time": "2022-03-30T05:53:59.235646",
     "exception": false,
     "start_time": "2022-03-30T05:53:59.168361",
     "status": "completed"
    },
    "tags": []
   },
   "outputs": [
    {
     "data": {
      "text/html": [
       "<div>\n",
       "<style scoped>\n",
       "    .dataframe tbody tr th:only-of-type {\n",
       "        vertical-align: middle;\n",
       "    }\n",
       "\n",
       "    .dataframe tbody tr th {\n",
       "        vertical-align: top;\n",
       "    }\n",
       "\n",
       "    .dataframe thead th {\n",
       "        text-align: right;\n",
       "    }\n",
       "</style>\n",
       "<table border=\"1\" class=\"dataframe\">\n",
       "  <thead>\n",
       "    <tr style=\"text-align: right;\">\n",
       "      <th></th>\n",
       "      <th>id</th>\n",
       "      <th>anchor</th>\n",
       "      <th>target</th>\n",
       "      <th>context</th>\n",
       "      <th>score</th>\n",
       "    </tr>\n",
       "  </thead>\n",
       "  <tbody>\n",
       "    <tr>\n",
       "      <th>10542</th>\n",
       "      <td>78a51b0cc51c9519</td>\n",
       "      <td>el display</td>\n",
       "      <td>display</td>\n",
       "      <td>C23</td>\n",
       "      <td>0.50</td>\n",
       "    </tr>\n",
       "    <tr>\n",
       "      <th>10543</th>\n",
       "      <td>913df62644b7e479</td>\n",
       "      <td>el display</td>\n",
       "      <td>el device</td>\n",
       "      <td>C23</td>\n",
       "      <td>0.50</td>\n",
       "    </tr>\n",
       "    <tr>\n",
       "      <th>10544</th>\n",
       "      <td>9a76261779bbcbe2</td>\n",
       "      <td>el display</td>\n",
       "      <td>el display device</td>\n",
       "      <td>C23</td>\n",
       "      <td>0.50</td>\n",
       "    </tr>\n",
       "    <tr>\n",
       "      <th>10545</th>\n",
       "      <td>8a824c91563ad370</td>\n",
       "      <td>el display</td>\n",
       "      <td>el emitting</td>\n",
       "      <td>C23</td>\n",
       "      <td>0.50</td>\n",
       "    </tr>\n",
       "    <tr>\n",
       "      <th>10546</th>\n",
       "      <td>d1ffa91cd7716f73</td>\n",
       "      <td>el display</td>\n",
       "      <td>el emitting device</td>\n",
       "      <td>C23</td>\n",
       "      <td>0.50</td>\n",
       "    </tr>\n",
       "    <tr>\n",
       "      <th>10547</th>\n",
       "      <td>80a487787ecc5958</td>\n",
       "      <td>el display</td>\n",
       "      <td>el panel</td>\n",
       "      <td>C23</td>\n",
       "      <td>0.50</td>\n",
       "    </tr>\n",
       "    <tr>\n",
       "      <th>10548</th>\n",
       "      <td>909a7684ef8d3749</td>\n",
       "      <td>el display</td>\n",
       "      <td>electro display</td>\n",
       "      <td>C23</td>\n",
       "      <td>0.50</td>\n",
       "    </tr>\n",
       "    <tr>\n",
       "      <th>10549</th>\n",
       "      <td>241b91b6e43be647</td>\n",
       "      <td>el display</td>\n",
       "      <td>electro emitting</td>\n",
       "      <td>C23</td>\n",
       "      <td>0.25</td>\n",
       "    </tr>\n",
       "    <tr>\n",
       "      <th>10550</th>\n",
       "      <td>4bfff4e53efdad10</td>\n",
       "      <td>el display</td>\n",
       "      <td>electro emitting display</td>\n",
       "      <td>C23</td>\n",
       "      <td>0.50</td>\n",
       "    </tr>\n",
       "    <tr>\n",
       "      <th>10551</th>\n",
       "      <td>47021526c301b08d</td>\n",
       "      <td>el display</td>\n",
       "      <td>electroluminescence</td>\n",
       "      <td>C23</td>\n",
       "      <td>0.50</td>\n",
       "    </tr>\n",
       "    <tr>\n",
       "      <th>10552</th>\n",
       "      <td>709bf8654bb9e78c</td>\n",
       "      <td>el display</td>\n",
       "      <td>electroluminescence device</td>\n",
       "      <td>C23</td>\n",
       "      <td>0.50</td>\n",
       "    </tr>\n",
       "    <tr>\n",
       "      <th>10553</th>\n",
       "      <td>5be5b26d2fc16531</td>\n",
       "      <td>el display</td>\n",
       "      <td>electroluminescence display</td>\n",
       "      <td>C23</td>\n",
       "      <td>0.75</td>\n",
       "    </tr>\n",
       "    <tr>\n",
       "      <th>10554</th>\n",
       "      <td>2a619016908bfa45</td>\n",
       "      <td>el display</td>\n",
       "      <td>electroluminescent</td>\n",
       "      <td>C23</td>\n",
       "      <td>0.50</td>\n",
       "    </tr>\n",
       "    <tr>\n",
       "      <th>10555</th>\n",
       "      <td>2b981fc7a9d7f1a2</td>\n",
       "      <td>el display</td>\n",
       "      <td>electroluminescent device</td>\n",
       "      <td>C23</td>\n",
       "      <td>0.50</td>\n",
       "    </tr>\n",
       "    <tr>\n",
       "      <th>10556</th>\n",
       "      <td>eb082ea73649961b</td>\n",
       "      <td>el display</td>\n",
       "      <td>electroluminescent panel</td>\n",
       "      <td>C23</td>\n",
       "      <td>0.50</td>\n",
       "    </tr>\n",
       "    <tr>\n",
       "      <th>10557</th>\n",
       "      <td>900645077570de37</td>\n",
       "      <td>el display</td>\n",
       "      <td>light display</td>\n",
       "      <td>C23</td>\n",
       "      <td>0.50</td>\n",
       "    </tr>\n",
       "    <tr>\n",
       "      <th>10558</th>\n",
       "      <td>4a32b8c9af300649</td>\n",
       "      <td>el display</td>\n",
       "      <td>light display device</td>\n",
       "      <td>C23</td>\n",
       "      <td>0.75</td>\n",
       "    </tr>\n",
       "    <tr>\n",
       "      <th>10559</th>\n",
       "      <td>5821feb51782407a</td>\n",
       "      <td>el display</td>\n",
       "      <td>light emitting</td>\n",
       "      <td>C23</td>\n",
       "      <td>0.50</td>\n",
       "    </tr>\n",
       "    <tr>\n",
       "      <th>10560</th>\n",
       "      <td>f0b10b0d4733e463</td>\n",
       "      <td>el display</td>\n",
       "      <td>light emitting device</td>\n",
       "      <td>C23</td>\n",
       "      <td>0.50</td>\n",
       "    </tr>\n",
       "    <tr>\n",
       "      <th>10561</th>\n",
       "      <td>a653cf2bea81c201</td>\n",
       "      <td>el display</td>\n",
       "      <td>light emitting display</td>\n",
       "      <td>C23</td>\n",
       "      <td>0.75</td>\n",
       "    </tr>\n",
       "  </tbody>\n",
       "</table>\n",
       "</div>"
      ],
      "text/plain": [
       "                     id      anchor                       target context  \\\n",
       "10542  78a51b0cc51c9519  el display                      display     C23   \n",
       "10543  913df62644b7e479  el display                    el device     C23   \n",
       "10544  9a76261779bbcbe2  el display            el display device     C23   \n",
       "10545  8a824c91563ad370  el display                  el emitting     C23   \n",
       "10546  d1ffa91cd7716f73  el display           el emitting device     C23   \n",
       "10547  80a487787ecc5958  el display                     el panel     C23   \n",
       "10548  909a7684ef8d3749  el display              electro display     C23   \n",
       "10549  241b91b6e43be647  el display             electro emitting     C23   \n",
       "10550  4bfff4e53efdad10  el display     electro emitting display     C23   \n",
       "10551  47021526c301b08d  el display          electroluminescence     C23   \n",
       "10552  709bf8654bb9e78c  el display   electroluminescence device     C23   \n",
       "10553  5be5b26d2fc16531  el display  electroluminescence display     C23   \n",
       "10554  2a619016908bfa45  el display           electroluminescent     C23   \n",
       "10555  2b981fc7a9d7f1a2  el display    electroluminescent device     C23   \n",
       "10556  eb082ea73649961b  el display     electroluminescent panel     C23   \n",
       "10557  900645077570de37  el display                light display     C23   \n",
       "10558  4a32b8c9af300649  el display         light display device     C23   \n",
       "10559  5821feb51782407a  el display               light emitting     C23   \n",
       "10560  f0b10b0d4733e463  el display        light emitting device     C23   \n",
       "10561  a653cf2bea81c201  el display       light emitting display     C23   \n",
       "\n",
       "       score  \n",
       "10542   0.50  \n",
       "10543   0.50  \n",
       "10544   0.50  \n",
       "10545   0.50  \n",
       "10546   0.50  \n",
       "10547   0.50  \n",
       "10548   0.50  \n",
       "10549   0.25  \n",
       "10550   0.50  \n",
       "10551   0.50  \n",
       "10552   0.50  \n",
       "10553   0.75  \n",
       "10554   0.50  \n",
       "10555   0.50  \n",
       "10556   0.50  \n",
       "10557   0.50  \n",
       "10558   0.75  \n",
       "10559   0.50  \n",
       "10560   0.50  \n",
       "10561   0.75  "
      ]
     },
     "execution_count": 11,
     "metadata": {},
     "output_type": "execute_result"
    }
   ],
   "source": [
    "train[train['anchor'] == 'el display'].head(20)"
   ]
  },
  {
   "cell_type": "code",
   "execution_count": 12,
   "id": "83266c7f",
   "metadata": {
    "execution": {
     "iopub.execute_input": "2022-03-30T05:53:59.338342Z",
     "iopub.status.busy": "2022-03-30T05:53:59.337823Z",
     "iopub.status.idle": "2022-03-30T05:53:59.748079Z",
     "shell.execute_reply": "2022-03-30T05:53:59.747572Z",
     "shell.execute_reply.started": "2022-03-30T05:38:23.757788Z"
    },
    "papermill": {
     "duration": 0.464929,
     "end_time": "2022-03-30T05:53:59.748224",
     "exception": false,
     "start_time": "2022-03-30T05:53:59.283295",
     "status": "completed"
    },
    "tags": []
   },
   "outputs": [
    {
     "data": {
      "image/png": "[encoded data removed]",
      "text/plain": [
       "<Figure size 576x576 with 1 Axes>"
      ]
     },
     "metadata": {
      "needs_background": "light"
     },
     "output_type": "display_data"
    }
   ],
   "source": [
    "plt.figure(figsize=(8,8))\n",
    "plt.title('top 20 anchors by targets')\n",
    "count = Counter(train['anchor'])\n",
    "x,y=map(list,zip(*count.most_common(20)))\n",
    "sns.barplot(x=y,y=x);"
   ]
  },
  {
   "cell_type": "code",
   "execution_count": 13,
   "id": "ae8cbd7e",
   "metadata": {
    "execution": {
     "iopub.execute_input": "2022-03-30T05:53:59.849191Z",
     "iopub.status.busy": "2022-03-30T05:53:59.848665Z",
     "iopub.status.idle": "2022-03-30T05:53:59.860031Z",
     "shell.execute_reply": "2022-03-30T05:53:59.860496Z",
     "shell.execute_reply.started": "2022-03-30T05:38:24.473019Z"
    },
    "papermill": {
     "duration": 0.061904,
     "end_time": "2022-03-30T05:53:59.860651",
     "exception": false,
     "start_time": "2022-03-30T05:53:59.798747",
     "status": "completed"
    },
    "tags": []
   },
   "outputs": [
    {
     "name": "stdout",
     "output_type": "stream",
     "text": [
      "Top 10 most frequent anchors:\n",
      "****************************************\n"
     ]
    },
    {
     "data": {
      "text/plain": [
       "component composite coating    152\n",
       "sheet supply roller            150\n",
       "source voltage                 140\n",
       "perfluoroalkyl group           136\n",
       "el display                     135\n",
       "average pore size              133\n",
       "speed control means            130\n",
       "parallel orientation           127\n",
       "displacement mechanism         124\n",
       "cathode layer                  118\n",
       "Name: anchor, dtype: int64"
      ]
     },
     "execution_count": 13,
     "metadata": {},
     "output_type": "execute_result"
    }
   ],
   "source": [
    "print('Top 10 most frequent anchors:')\n",
    "print('*'*40)\n",
    "train.anchor.value_counts().head(10)"
   ]
  },
  {
   "cell_type": "code",
   "execution_count": 14,
   "id": "1a45205c",
   "metadata": {
    "execution": {
     "iopub.execute_input": "2022-03-30T05:53:59.962727Z",
     "iopub.status.busy": "2022-03-30T05:53:59.962143Z",
     "iopub.status.idle": "2022-03-30T05:53:59.974022Z",
     "shell.execute_reply": "2022-03-30T05:53:59.973322Z",
     "shell.execute_reply.started": "2022-03-30T05:38:24.490601Z"
    },
    "papermill": {
     "duration": 0.066302,
     "end_time": "2022-03-30T05:53:59.974222",
     "exception": false,
     "start_time": "2022-03-30T05:53:59.907920",
     "status": "completed"
    },
    "tags": []
   },
   "outputs": [
    {
     "name": "stdout",
     "output_type": "stream",
     "text": [
      "Bottom 10 most frequent anchors:\n",
      "****************************************\n"
     ]
    },
    {
     "data": {
      "text/plain": [
       "conduct conducting material               1\n",
       "peripheral nervous system stimulation     1\n",
       "dry coating composition1                  2\n",
       "plug nozzle                               2\n",
       "shannon                                   2\n",
       "external boundary                         4\n",
       "sulfide sulfur                            6\n",
       "heighth                                   7\n",
       "index with location                       8\n",
       "corresponding toothed                    12\n",
       "Name: anchor, dtype: int64"
      ]
     },
     "execution_count": 14,
     "metadata": {},
     "output_type": "execute_result"
    }
   ],
   "source": [
    "print('Bottom 10 most frequent anchors:')\n",
    "print('*'*40)\n",
    "train.anchor.value_counts(ascending=True).head(10)"
   ]
  },
  {
   "cell_type": "code",
   "execution_count": 15,
   "id": "f5e47ec2",
   "metadata": {
    "execution": {
     "iopub.execute_input": "2022-03-30T05:54:00.079441Z",
     "iopub.status.busy": "2022-03-30T05:54:00.078875Z",
     "iopub.status.idle": "2022-03-30T05:54:01.685313Z",
     "shell.execute_reply": "2022-03-30T05:54:01.684567Z",
     "shell.execute_reply.started": "2022-03-30T05:38:24.514292Z"
    },
    "papermill": {
     "duration": 1.662808,
     "end_time": "2022-03-30T05:54:01.685471",
     "exception": false,
     "start_time": "2022-03-30T05:54:00.022663",
     "status": "completed"
    },
    "tags": []
   },
   "outputs": [
    {
     "data": {
      "image/png": "[encoded data removed]",
      "text/plain": [
       "<Figure size 2160x720 with 1 Axes>"
      ]
     },
     "metadata": {
      "needs_background": "light"
     },
     "output_type": "display_data"
    }
   ],
   "source": [
    "val = train.anchor.value_counts()\n",
    "plt.figure(figsize=(30,10))\n",
    "plt.title('Distribution of the anchor frequency count', fontsize=30) # basically how many anchors (y) occur x times\n",
    "val.groupby(val).count().plot(kind='bar', color='seagreen')\n",
    "plt.xlabel('number of targets in anchors', fontsize=20)\n",
    "plt.ylabel('number of anchors', fontsize=20);"
   ]
  },
  {
   "cell_type": "code",
   "execution_count": 16,
   "id": "8c8aca15",
   "metadata": {
    "execution": {
     "iopub.execute_input": "2022-03-30T05:54:01.868979Z",
     "iopub.status.busy": "2022-03-30T05:54:01.868028Z",
     "iopub.status.idle": "2022-03-30T05:54:01.903813Z",
     "shell.execute_reply": "2022-03-30T05:54:01.903155Z",
     "shell.execute_reply.started": "2022-03-30T05:38:26.126193Z"
    },
    "papermill": {
     "duration": 0.137321,
     "end_time": "2022-03-30T05:54:01.903949",
     "exception": false,
     "start_time": "2022-03-30T05:54:01.766628",
     "status": "completed"
    },
    "tags": []
   },
   "outputs": [
    {
     "data": {
      "text/plain": [
       "2    24485\n",
       "3     7556\n",
       "1     3377\n",
       "4      856\n",
       "5      199\n",
       "Name: anchor, dtype: int64"
      ]
     },
     "execution_count": 16,
     "metadata": {},
     "output_type": "execute_result"
    }
   ],
   "source": [
    "train['anchor'].str.split().map(lambda x: len(x)).value_counts()"
   ]
  },
  {
   "cell_type": "markdown",
   "id": "b04f8cb5",
   "metadata": {
    "papermill": {
     "duration": 0.055751,
     "end_time": "2022-03-30T05:54:02.011653",
     "exception": false,
     "start_time": "2022-03-30T05:54:01.955902",
     "status": "completed"
    },
    "tags": []
   },
   "source": [
    "the number of words range from 1 to 5, and we can see the distribution more clearly in a histogram."
   ]
  },
  {
   "cell_type": "code",
   "execution_count": 17,
   "id": "5feed239",
   "metadata": {
    "execution": {
     "iopub.execute_input": "2022-03-30T05:54:02.127322Z",
     "iopub.status.busy": "2022-03-30T05:54:02.126738Z",
     "iopub.status.idle": "2022-03-30T05:54:02.672362Z",
     "shell.execute_reply": "2022-03-30T05:54:02.671698Z",
     "shell.execute_reply.started": "2022-03-30T05:38:26.201985Z"
    },
    "papermill": {
     "duration": 0.606794,
     "end_time": "2022-03-30T05:54:02.672491",
     "exception": false,
     "start_time": "2022-03-30T05:54:02.065697",
     "status": "completed"
    },
    "tags": []
   },
   "outputs": [
    {
     "data": {
      "image/png": "[encoded data removed]",
      "text/plain": [
       "<Figure size 2160x720 with 1 Axes>"
      ]
     },
     "metadata": {
      "needs_background": "light"
     },
     "output_type": "display_data"
    }
   ],
   "source": [
    "plt.figure(figsize=(30,10))\n",
    "plt.title('Distribution of number of words in anchor', fontsize=30) # basically how many anchors (y) occur x times\n",
    "plt.hist(train['anchor'].str.split().map(lambda x: len(x)), color='forestgreen', bins=np.arange(7)-0.5)\n",
    "plt.xlabel('number of words in anchors', fontsize=20)\n",
    "plt.ylabel('number of anchors', fontsize=20);"
   ]
  },
  {
   "cell_type": "markdown",
   "id": "1f1f0adb",
   "metadata": {
    "papermill": {
     "duration": 0.056474,
     "end_time": "2022-03-30T05:54:02.784113",
     "exception": false,
     "start_time": "2022-03-30T05:54:02.727639",
     "status": "completed"
    },
    "tags": []
   },
   "source": [
    "## target column\n",
    "\n",
    "we can perform similar EDA with this column, because it serves a similar purpose to the `anchor` column"
   ]
  },
  {
   "cell_type": "code",
   "execution_count": 18,
   "id": "9f293bfd",
   "metadata": {
    "execution": {
     "iopub.execute_input": "2022-03-30T05:54:02.895460Z",
     "iopub.status.busy": "2022-03-30T05:54:02.894669Z",
     "iopub.status.idle": "2022-03-30T05:54:02.903631Z",
     "shell.execute_reply": "2022-03-30T05:54:02.904039Z",
     "shell.execute_reply.started": "2022-03-30T05:38:26.564824Z"
    },
    "papermill": {
     "duration": 0.067946,
     "end_time": "2022-03-30T05:54:02.904232",
     "exception": false,
     "start_time": "2022-03-30T05:54:02.836286",
     "status": "completed"
    },
    "tags": []
   },
   "outputs": [
    {
     "data": {
      "text/plain": [
       "29340"
      ]
     },
     "execution_count": 18,
     "metadata": {},
     "output_type": "execute_result"
    }
   ],
   "source": [
    "train.target.nunique()"
   ]
  },
  {
   "cell_type": "code",
   "execution_count": 19,
   "id": "2e914e52",
   "metadata": {
    "execution": {
     "iopub.execute_input": "2022-03-30T05:54:03.015450Z",
     "iopub.status.busy": "2022-03-30T05:54:03.014812Z",
     "iopub.status.idle": "2022-03-30T05:54:03.034079Z",
     "shell.execute_reply": "2022-03-30T05:54:03.033592Z",
     "shell.execute_reply.started": "2022-03-30T05:38:26.585105Z"
    },
    "papermill": {
     "duration": 0.074601,
     "end_time": "2022-03-30T05:54:03.034284",
     "exception": false,
     "start_time": "2022-03-30T05:54:02.959683",
     "status": "completed"
    },
    "tags": []
   },
   "outputs": [
    {
     "data": {
      "text/plain": [
       "composition     24\n",
       "data            22\n",
       "metal           22\n",
       "motor           22\n",
       "assembly        21\n",
       "substrate       20\n",
       "component       19\n",
       "transmission    19\n",
       "output          19\n",
       "pressure        19\n",
       "Name: target, dtype: int64"
      ]
     },
     "execution_count": 19,
     "metadata": {},
     "output_type": "execute_result"
    }
   ],
   "source": [
    "train.target.value_counts().head(10)"
   ]
  },
  {
   "cell_type": "code",
   "execution_count": 20,
   "id": "f854992a",
   "metadata": {
    "execution": {
     "iopub.execute_input": "2022-03-30T05:54:03.154923Z",
     "iopub.status.busy": "2022-03-30T05:54:03.154364Z",
     "iopub.status.idle": "2022-03-30T05:54:03.158870Z",
     "shell.execute_reply": "2022-03-30T05:54:03.158410Z",
     "shell.execute_reply.started": "2022-03-30T05:38:26.617121Z"
    },
    "papermill": {
     "duration": 0.072281,
     "end_time": "2022-03-30T05:54:03.159003",
     "exception": false,
     "start_time": "2022-03-30T05:54:03.086722",
     "status": "completed"
    },
    "tags": []
   },
   "outputs": [
    {
     "data": {
      "text/html": [
       "<div>\n",
       "<style scoped>\n",
       "    .dataframe tbody tr th:only-of-type {\n",
       "        vertical-align: middle;\n",
       "    }\n",
       "\n",
       "    .dataframe tbody tr th {\n",
       "        vertical-align: top;\n",
       "    }\n",
       "\n",
       "    .dataframe thead th {\n",
       "        text-align: right;\n",
       "    }\n",
       "</style>\n",
       "<table border=\"1\" class=\"dataframe\">\n",
       "  <thead>\n",
       "    <tr style=\"text-align: right;\">\n",
       "      <th></th>\n",
       "      <th>id</th>\n",
       "      <th>anchor</th>\n",
       "      <th>target</th>\n",
       "      <th>context</th>\n",
       "      <th>score</th>\n",
       "    </tr>\n",
       "  </thead>\n",
       "  <tbody>\n",
       "    <tr>\n",
       "      <th>54</th>\n",
       "      <td>856cef1a4eefc3aa</td>\n",
       "      <td>abnormal position</td>\n",
       "      <td>data</td>\n",
       "      <td>B23</td>\n",
       "      <td>0.25</td>\n",
       "    </tr>\n",
       "    <tr>\n",
       "      <th>359</th>\n",
       "      <td>23090ec49265de76</td>\n",
       "      <td>ack</td>\n",
       "      <td>data</td>\n",
       "      <td>G04</td>\n",
       "      <td>0.50</td>\n",
       "    </tr>\n",
       "    <tr>\n",
       "      <th>382</th>\n",
       "      <td>35ad64716a1f895e</td>\n",
       "      <td>ack</td>\n",
       "      <td>data</td>\n",
       "      <td>G06</td>\n",
       "      <td>0.25</td>\n",
       "    </tr>\n",
       "    <tr>\n",
       "      <th>3572</th>\n",
       "      <td>d71ee59bfb53690b</td>\n",
       "      <td>board id</td>\n",
       "      <td>data</td>\n",
       "      <td>G01</td>\n",
       "      <td>0.50</td>\n",
       "    </tr>\n",
       "    <tr>\n",
       "      <th>4110</th>\n",
       "      <td>af03db7407451a05</td>\n",
       "      <td>cache segments</td>\n",
       "      <td>data</td>\n",
       "      <td>G06</td>\n",
       "      <td>0.50</td>\n",
       "    </tr>\n",
       "    <tr>\n",
       "      <th>5502</th>\n",
       "      <td>8a5cd26a3fdb6175</td>\n",
       "      <td>clear buffer</td>\n",
       "      <td>data</td>\n",
       "      <td>G02</td>\n",
       "      <td>0.25</td>\n",
       "    </tr>\n",
       "    <tr>\n",
       "      <th>5538</th>\n",
       "      <td>30b6dc115260849c</td>\n",
       "      <td>clock input</td>\n",
       "      <td>data</td>\n",
       "      <td>G04</td>\n",
       "      <td>0.50</td>\n",
       "    </tr>\n",
       "    <tr>\n",
       "      <th>6019</th>\n",
       "      <td>18317f6f93d28cdc</td>\n",
       "      <td>color difference signal</td>\n",
       "      <td>data</td>\n",
       "      <td>H04</td>\n",
       "      <td>0.25</td>\n",
       "    </tr>\n",
       "    <tr>\n",
       "      <th>6779</th>\n",
       "      <td>fc2ec983500fb690</td>\n",
       "      <td>conductive position</td>\n",
       "      <td>data</td>\n",
       "      <td>B23</td>\n",
       "      <td>0.00</td>\n",
       "    </tr>\n",
       "    <tr>\n",
       "      <th>18461</th>\n",
       "      <td>168fea406eecd47f</td>\n",
       "      <td>linear systems</td>\n",
       "      <td>data</td>\n",
       "      <td>G06</td>\n",
       "      <td>0.50</td>\n",
       "    </tr>\n",
       "    <tr>\n",
       "      <th>20789</th>\n",
       "      <td>0643a1a4944a8c54</td>\n",
       "      <td>multiplexed data</td>\n",
       "      <td>data</td>\n",
       "      <td>H01</td>\n",
       "      <td>0.25</td>\n",
       "    </tr>\n",
       "    <tr>\n",
       "      <th>20817</th>\n",
       "      <td>8faf144cdc32578c</td>\n",
       "      <td>multiplexed data</td>\n",
       "      <td>data</td>\n",
       "      <td>H03</td>\n",
       "      <td>0.50</td>\n",
       "    </tr>\n",
       "    <tr>\n",
       "      <th>20831</th>\n",
       "      <td>7328282d0c714b4f</td>\n",
       "      <td>multiplexed data</td>\n",
       "      <td>data</td>\n",
       "      <td>H04</td>\n",
       "      <td>0.25</td>\n",
       "    </tr>\n",
       "    <tr>\n",
       "      <th>21411</th>\n",
       "      <td>85eb624c81478e10</td>\n",
       "      <td>nvm array</td>\n",
       "      <td>data</td>\n",
       "      <td>H03</td>\n",
       "      <td>0.25</td>\n",
       "    </tr>\n",
       "    <tr>\n",
       "      <th>21553</th>\n",
       "      <td>11e1ec3bff3c79ce</td>\n",
       "      <td>offset table</td>\n",
       "      <td>data</td>\n",
       "      <td>G06</td>\n",
       "      <td>0.25</td>\n",
       "    </tr>\n",
       "    <tr>\n",
       "      <th>23284</th>\n",
       "      <td>df57ebcb8cde91b3</td>\n",
       "      <td>page file</td>\n",
       "      <td>data</td>\n",
       "      <td>G09</td>\n",
       "      <td>0.25</td>\n",
       "    </tr>\n",
       "    <tr>\n",
       "      <th>24956</th>\n",
       "      <td>934bbab7920e8839</td>\n",
       "      <td>pre established parameters</td>\n",
       "      <td>data</td>\n",
       "      <td>A43</td>\n",
       "      <td>0.25</td>\n",
       "    </tr>\n",
       "    <tr>\n",
       "      <th>27444</th>\n",
       "      <td>3b843235fe6205dd</td>\n",
       "      <td>relational formula</td>\n",
       "      <td>data</td>\n",
       "      <td>B61</td>\n",
       "      <td>0.25</td>\n",
       "    </tr>\n",
       "    <tr>\n",
       "      <th>33170</th>\n",
       "      <td>c3a15f4a4a7cef32</td>\n",
       "      <td>toolpaths</td>\n",
       "      <td>data</td>\n",
       "      <td>G05</td>\n",
       "      <td>0.00</td>\n",
       "    </tr>\n",
       "    <tr>\n",
       "      <th>35144</th>\n",
       "      <td>e16b54c5c3650b03</td>\n",
       "      <td>video lines</td>\n",
       "      <td>data</td>\n",
       "      <td>G09</td>\n",
       "      <td>0.50</td>\n",
       "    </tr>\n",
       "    <tr>\n",
       "      <th>35192</th>\n",
       "      <td>4043a122da1398bf</td>\n",
       "      <td>video lines</td>\n",
       "      <td>data</td>\n",
       "      <td>H04</td>\n",
       "      <td>0.25</td>\n",
       "    </tr>\n",
       "    <tr>\n",
       "      <th>36285</th>\n",
       "      <td>3563f46e03e0b63c</td>\n",
       "      <td>whose identity</td>\n",
       "      <td>data</td>\n",
       "      <td>G06</td>\n",
       "      <td>0.25</td>\n",
       "    </tr>\n",
       "  </tbody>\n",
       "</table>\n",
       "</div>"
      ],
      "text/plain": [
       "                     id                      anchor target context  score\n",
       "54     856cef1a4eefc3aa           abnormal position   data     B23   0.25\n",
       "359    23090ec49265de76                         ack   data     G04   0.50\n",
       "382    35ad64716a1f895e                         ack   data     G06   0.25\n",
       "3572   d71ee59bfb53690b                    board id   data     G01   0.50\n",
       "4110   af03db7407451a05              cache segments   data     G06   0.50\n",
       "5502   8a5cd26a3fdb6175                clear buffer   data     G02   0.25\n",
       "5538   30b6dc115260849c                 clock input   data     G04   0.50\n",
       "6019   18317f6f93d28cdc     color difference signal   data     H04   0.25\n",
       "6779   fc2ec983500fb690         conductive position   data     B23   0.00\n",
       "18461  168fea406eecd47f              linear systems   data     G06   0.50\n",
       "20789  0643a1a4944a8c54            multiplexed data   data     H01   0.25\n",
       "20817  8faf144cdc32578c            multiplexed data   data     H03   0.50\n",
       "20831  7328282d0c714b4f            multiplexed data   data     H04   0.25\n",
       "21411  85eb624c81478e10                   nvm array   data     H03   0.25\n",
       "21553  11e1ec3bff3c79ce                offset table   data     G06   0.25\n",
       "23284  df57ebcb8cde91b3                   page file   data     G09   0.25\n",
       "24956  934bbab7920e8839  pre established parameters   data     A43   0.25\n",
       "27444  3b843235fe6205dd          relational formula   data     B61   0.25\n",
       "33170  c3a15f4a4a7cef32                   toolpaths   data     G05   0.00\n",
       "35144  e16b54c5c3650b03                 video lines   data     G09   0.50\n",
       "35192  4043a122da1398bf                 video lines   data     H04   0.25\n",
       "36285  3563f46e03e0b63c              whose identity   data     G06   0.25"
      ]
     },
     "execution_count": 20,
     "metadata": {},
     "output_type": "execute_result"
    }
   ],
   "source": [
    "train[train['target'] == 'data']"
   ]
  },
  {
   "cell_type": "markdown",
   "id": "8b92f5e1",
   "metadata": {
    "papermill": {
     "duration": 0.052031,
     "end_time": "2022-03-30T05:54:03.264051",
     "exception": false,
     "start_time": "2022-03-30T05:54:03.212020",
     "status": "completed"
    },
    "tags": []
   },
   "source": [
    "it seems like this is not a bijective relationship. the targets are many-to-one, e.g. 'data' in the target column is matched to 'multiplexed data' 3 times with varying similarity scores. therefore the columns are [non-injective](https://en.wikipedia.org/wiki/Injective_function), in that there are multiple anchors that match to one target and multiple targets that are matched to one anchor. this seems like it will be a problem"
   ]
  },
  {
   "cell_type": "code",
   "execution_count": 21,
   "id": "8fef3e32",
   "metadata": {
    "execution": {
     "iopub.execute_input": "2022-03-30T05:54:03.383686Z",
     "iopub.status.busy": "2022-03-30T05:54:03.383106Z",
     "iopub.status.idle": "2022-03-30T05:54:03.391235Z",
     "shell.execute_reply": "2022-03-30T05:54:03.390689Z",
     "shell.execute_reply.started": "2022-03-30T05:38:26.642938Z"
    },
    "papermill": {
     "duration": 0.073721,
     "end_time": "2022-03-30T05:54:03.391368",
     "exception": false,
     "start_time": "2022-03-30T05:54:03.317647",
     "status": "completed"
    },
    "tags": []
   },
   "outputs": [
    {
     "name": "stdout",
     "output_type": "stream",
     "text": [
      "Top 10 most frequent targets:\n",
      "****************************************\n"
     ]
    },
    {
     "data": {
      "text/plain": [
       "composition     24\n",
       "data            22\n",
       "metal           22\n",
       "motor           22\n",
       "assembly        21\n",
       "substrate       20\n",
       "component       19\n",
       "transmission    19\n",
       "output          19\n",
       "pressure        19\n",
       "Name: target, dtype: int64"
      ]
     },
     "execution_count": 21,
     "metadata": {},
     "output_type": "execute_result"
    }
   ],
   "source": [
    "print('Top 10 most frequent targets:')\n",
    "print('*'*40)\n",
    "train.target.value_counts().head(10)"
   ]
  },
  {
   "cell_type": "code",
   "execution_count": 22,
   "id": "cdc22b94",
   "metadata": {
    "execution": {
     "iopub.execute_input": "2022-03-30T05:54:03.515843Z",
     "iopub.status.busy": "2022-03-30T05:54:03.515303Z",
     "iopub.status.idle": "2022-03-30T05:54:03.522480Z",
     "shell.execute_reply": "2022-03-30T05:54:03.522998Z",
     "shell.execute_reply.started": "2022-03-30T05:38:26.681070Z"
    },
    "papermill": {
     "duration": 0.076317,
     "end_time": "2022-03-30T05:54:03.523214",
     "exception": false,
     "start_time": "2022-03-30T05:54:03.446897",
     "status": "completed"
    },
    "tags": []
   },
   "outputs": [
    {
     "name": "stdout",
     "output_type": "stream",
     "text": [
      "Bottom 10 most frequent targets:\n",
      "****************************************\n"
     ]
    },
    {
     "data": {
      "text/plain": [
       "abatement of pollution     1\n",
       "weight total wt            1\n",
       "weight machine             1\n",
       "weight loss                1\n",
       "weight in percentage       1\n",
       "total oxide weight         1\n",
       "total oxide composition    1\n",
       "total composition          1\n",
       "substituted amount         1\n",
       "parts by weight            1\n",
       "Name: target, dtype: int64"
      ]
     },
     "execution_count": 22,
     "metadata": {},
     "output_type": "execute_result"
    }
   ],
   "source": [
    "print('Bottom 10 most frequent targets:')\n",
    "print('*'*40)\n",
    "train.target.value_counts(ascending=True).head(10)"
   ]
  },
  {
   "cell_type": "code",
   "execution_count": 23,
   "id": "83d37013",
   "metadata": {
    "execution": {
     "iopub.execute_input": "2022-03-30T05:54:03.634649Z",
     "iopub.status.busy": "2022-03-30T05:54:03.634055Z",
     "iopub.status.idle": "2022-03-30T05:54:03.635763Z",
     "shell.execute_reply": "2022-03-30T05:54:03.636135Z",
     "shell.execute_reply.started": "2022-03-30T05:38:26.719475Z"
    },
    "papermill": {
     "duration": 0.059158,
     "end_time": "2022-03-30T05:54:03.636313",
     "exception": false,
     "start_time": "2022-03-30T05:54:03.577155",
     "status": "completed"
    },
    "tags": []
   },
   "outputs": [],
   "source": [
    "# not sure this is useful, or how to interpret this\n",
    "\n",
    "# tval = train.target.value_counts()\n",
    "# plt.figure(figsize=(30,10))\n",
    "# plt.title('Distribution of the anchor frequency count', fontsize=30) # basically how many anchors (y) occur x times\n",
    "# tval.groupby(tval).count().plot(kind='bar', color='seagreen')\n",
    "# plt.xlabel('number of targets in anchors', fontsize=20)\n",
    "# plt.ylabel('number of anchors', fontsize=20);"
   ]
  },
  {
   "cell_type": "code",
   "execution_count": 24,
   "id": "4e4d2976",
   "metadata": {
    "execution": {
     "iopub.execute_input": "2022-03-30T05:54:03.750789Z",
     "iopub.status.busy": "2022-03-30T05:54:03.750134Z",
     "iopub.status.idle": "2022-03-30T05:54:03.796203Z",
     "shell.execute_reply": "2022-03-30T05:54:03.795471Z",
     "shell.execute_reply.started": "2022-03-30T05:38:26.726707Z"
    },
    "papermill": {
     "duration": 0.10693,
     "end_time": "2022-03-30T05:54:03.796337",
     "exception": false,
     "start_time": "2022-03-30T05:54:03.689407",
     "status": "completed"
    },
    "tags": []
   },
   "outputs": [
    {
     "data": {
      "text/plain": [
       "2     19099\n",
       "3      8503\n",
       "1      6872\n",
       "4      1606\n",
       "5       272\n",
       "6        76\n",
       "7        26\n",
       "8         7\n",
       "10        3\n",
       "9         3\n",
       "13        2\n",
       "12        2\n",
       "15        1\n",
       "11        1\n",
       "Name: target, dtype: int64"
      ]
     },
     "execution_count": 24,
     "metadata": {},
     "output_type": "execute_result"
    }
   ],
   "source": [
    "train['target'].str.split().map(lambda x: len(x)).value_counts()"
   ]
  },
  {
   "cell_type": "markdown",
   "id": "242776a8",
   "metadata": {
    "papermill": {
     "duration": 0.056662,
     "end_time": "2022-03-30T05:54:03.910720",
     "exception": false,
     "start_time": "2022-03-30T05:54:03.854058",
     "status": "completed"
    },
    "tags": []
   },
   "source": [
    "the number of words range from 1 to 5, and we can see the distribution more clearly in a histogram."
   ]
  },
  {
   "cell_type": "code",
   "execution_count": 25,
   "id": "80a0ca3d",
   "metadata": {
    "execution": {
     "iopub.execute_input": "2022-03-30T05:54:04.036993Z",
     "iopub.status.busy": "2022-03-30T05:54:04.036120Z",
     "iopub.status.idle": "2022-03-30T05:54:04.367439Z",
     "shell.execute_reply": "2022-03-30T05:54:04.366799Z",
     "shell.execute_reply.started": "2022-03-30T05:38:26.807235Z"
    },
    "papermill": {
     "duration": 0.400528,
     "end_time": "2022-03-30T05:54:04.367586",
     "exception": false,
     "start_time": "2022-03-30T05:54:03.967058",
     "status": "completed"
    },
    "tags": []
   },
   "outputs": [
    {
     "data": {
      "image/png": "[encoded data removed]",
      "text/plain": [
       "<Figure size 2160x720 with 1 Axes>"
      ]
     },
     "metadata": {
      "needs_background": "light"
     },
     "output_type": "display_data"
    }
   ],
   "source": [
    "plt.figure(figsize=(30,10))\n",
    "plt.title('Distribution of number of words in target', fontsize=30) # basically how many anchors (y) occur x times\n",
    "plt.hist(train['target'].str.split().map(lambda x: len(x)), bins=np.arange(16)-0.5, color='forestgreen')\n",
    "plt.xlabel('number of words in target', fontsize=20)\n",
    "plt.ylabel('number of targets with x amount of words', fontsize=20);"
   ]
  },
  {
   "cell_type": "markdown",
   "id": "051609d3",
   "metadata": {
    "papermill": {
     "duration": 0.086219,
     "end_time": "2022-03-30T05:54:04.538791",
     "exception": false,
     "start_time": "2022-03-30T05:54:04.452572",
     "status": "completed"
    },
    "tags": []
   },
   "source": [
    "the distribution clearly has a very long tail."
   ]
  },
  {
   "cell_type": "markdown",
   "id": "f9d8a6de",
   "metadata": {
    "papermill": {
     "duration": 0.082423,
     "end_time": "2022-03-30T05:54:04.707316",
     "exception": false,
     "start_time": "2022-03-30T05:54:04.624893",
     "status": "completed"
    },
    "tags": []
   },
   "source": [
    "## context column"
   ]
  },
  {
   "cell_type": "markdown",
   "id": "3e36a223",
   "metadata": {
    "papermill": {
     "duration": 0.087979,
     "end_time": "2022-03-30T05:54:04.879820",
     "exception": false,
     "start_time": "2022-03-30T05:54:04.791841",
     "status": "completed"
    },
    "tags": []
   },
   "source": [
    "based on the [Cooperative Patent Classification](https://en.wikipedia.org/wiki/Cooperative_Patent_Classification) system, the first letter represents the section (category) of the patent:\n",
    "- A: Human Necessities\n",
    "- B: Operations and Transport\n",
    "- C: Chemistry and Metallurgy\n",
    "- D: Textiles\n",
    "- E: Fixed Constructions\n",
    "- F: Mechanical Engineering\n",
    "- G: Physics\n",
    "- H: Electricity\n",
    "- Y: Emerging Cross-Sectional Technologies\n",
    "\n",
    "while the next 2 numerical digits represent the class. The full catalog can be found on the [CPC website](https://www.cooperativepatentclassification.org/cpcSchemeAndDefinitions/table)"
   ]
  },
  {
   "cell_type": "code",
   "execution_count": 26,
   "id": "c5c97e91",
   "metadata": {
    "execution": {
     "iopub.execute_input": "2022-03-30T05:54:05.054522Z",
     "iopub.status.busy": "2022-03-30T05:54:05.053767Z",
     "iopub.status.idle": "2022-03-30T05:54:05.061330Z",
     "shell.execute_reply": "2022-03-30T05:54:05.060801Z",
     "shell.execute_reply.started": "2022-03-30T05:38:27.534027Z"
    },
    "papermill": {
     "duration": 0.095709,
     "end_time": "2022-03-30T05:54:05.061464",
     "exception": false,
     "start_time": "2022-03-30T05:54:04.965755",
     "status": "completed"
    },
    "tags": []
   },
   "outputs": [
    {
     "data": {
      "text/plain": [
       "106"
      ]
     },
     "execution_count": 26,
     "metadata": {},
     "output_type": "execute_result"
    }
   ],
   "source": [
    "train.context.nunique()"
   ]
  },
  {
   "cell_type": "code",
   "execution_count": 27,
   "id": "e3ed40c5",
   "metadata": {
    "execution": {
     "iopub.execute_input": "2022-03-30T05:54:05.184539Z",
     "iopub.status.busy": "2022-03-30T05:54:05.183887Z",
     "iopub.status.idle": "2022-03-30T05:54:05.188303Z",
     "shell.execute_reply": "2022-03-30T05:54:05.187729Z",
     "shell.execute_reply.started": "2022-03-30T05:38:27.544160Z"
    },
    "papermill": {
     "duration": 0.069467,
     "end_time": "2022-03-30T05:54:05.188426",
     "exception": false,
     "start_time": "2022-03-30T05:54:05.118959",
     "status": "completed"
    },
    "tags": []
   },
   "outputs": [
    {
     "data": {
      "text/plain": [
       "H01    2186\n",
       "H04    2177\n",
       "G01    1812\n",
       "A61    1477\n",
       "F16    1091\n",
       "C07    1069\n",
       "G06    1063\n",
       "B60     916\n",
       "B01     891\n",
       "G02     877\n",
       "H03     798\n",
       "B65     764\n",
       "B41     650\n",
       "C08     649\n",
       "B23     648\n",
       "A01     637\n",
       "C12     633\n",
       "C10     601\n",
       "B29     593\n",
       "F02     566\n",
       "Name: context, dtype: int64"
      ]
     },
     "execution_count": 27,
     "metadata": {},
     "output_type": "execute_result"
    }
   ],
   "source": [
    "train.context.value_counts().head(20)"
   ]
  },
  {
   "cell_type": "markdown",
   "id": "772e998c",
   "metadata": {
    "papermill": {
     "duration": 0.057145,
     "end_time": "2022-03-30T05:54:05.303830",
     "exception": false,
     "start_time": "2022-03-30T05:54:05.246685",
     "status": "completed"
    },
    "tags": []
   },
   "source": [
    "## score column\n",
    "\n",
    "this is our dependent variable. this column gives the closeness of the target to the anchor on a scale of 0 (irrelevant) to 1 (very close match). we can take a look at the distribution of scores."
   ]
  },
  {
   "cell_type": "code",
   "execution_count": 28,
   "id": "d2e1088a",
   "metadata": {
    "execution": {
     "iopub.execute_input": "2022-03-30T05:54:05.429272Z",
     "iopub.status.busy": "2022-03-30T05:54:05.428660Z",
     "iopub.status.idle": "2022-03-30T05:54:05.431316Z",
     "shell.execute_reply": "2022-03-30T05:54:05.431833Z",
     "shell.execute_reply.started": "2022-03-30T05:38:27.568428Z"
    },
    "papermill": {
     "duration": 0.068542,
     "end_time": "2022-03-30T05:54:05.431981",
     "exception": false,
     "start_time": "2022-03-30T05:54:05.363439",
     "status": "completed"
    },
    "tags": []
   },
   "outputs": [
    {
     "data": {
      "text/plain": [
       "0.50    12300\n",
       "0.25    11519\n",
       "0.00     7471\n",
       "0.75     4029\n",
       "1.00     1154\n",
       "Name: score, dtype: int64"
      ]
     },
     "execution_count": 28,
     "metadata": {},
     "output_type": "execute_result"
    }
   ],
   "source": [
    "train.score.value_counts()"
   ]
  },
  {
   "cell_type": "code",
   "execution_count": 29,
   "id": "6b768b4c",
   "metadata": {
    "execution": {
     "iopub.execute_input": "2022-03-30T05:54:05.558793Z",
     "iopub.status.busy": "2022-03-30T05:54:05.553530Z",
     "iopub.status.idle": "2022-03-30T05:54:05.773010Z",
     "shell.execute_reply": "2022-03-30T05:54:05.772440Z",
     "shell.execute_reply.started": "2022-03-30T05:38:27.586314Z"
    },
    "papermill": {
     "duration": 0.283247,
     "end_time": "2022-03-30T05:54:05.773137",
     "exception": false,
     "start_time": "2022-03-30T05:54:05.489890",
     "status": "completed"
    },
    "tags": []
   },
   "outputs": [
    {
     "data": {
      "text/plain": [
       "<AxesSubplot:title={'center':'Distribution of scores'}, xlabel='scores', ylabel='count'>"
      ]
     },
     "execution_count": 29,
     "metadata": {},
     "output_type": "execute_result"
    },
    {
     "data": {
      "image/png": "[encoded data removed]",
      "text/plain": [
       "<Figure size 720x720 with 1 Axes>"
      ]
     },
     "metadata": {
      "needs_background": "light"
     },
     "output_type": "display_data"
    }
   ],
   "source": [
    "plt.figure(figsize=(10,10))\n",
    "plt.xlabel('scores')\n",
    "plt.ylabel('count')\n",
    "plt.title('Distribution of scores')\n",
    "train.score.value_counts().plot(kind='bar', color='mediumaquamarine')"
   ]
  },
  {
   "cell_type": "markdown",
   "id": "892e6570",
   "metadata": {
    "papermill": {
     "duration": 0.061037,
     "end_time": "2022-03-30T05:54:05.893334",
     "exception": false,
     "start_time": "2022-03-30T05:54:05.832297",
     "status": "completed"
    },
    "tags": []
   },
   "source": [
    "it seems that most of the word pairs are synonyms and somewhat related rather than closely related. this also seems like a multi-class problem with imbalanced classes.  "
   ]
  },
  {
   "cell_type": "markdown",
   "id": "9c63205e",
   "metadata": {
    "papermill": {
     "duration": 0.058127,
     "end_time": "2022-03-30T05:54:06.010110",
     "exception": false,
     "start_time": "2022-03-30T05:54:05.951983",
     "status": "completed"
    },
    "tags": []
   },
   "source": [
    "# feature engineering\n",
    "\n",
    "- possibly combine CPC labels so we have more words to train the model\n",
    "- ner/pos tagging"
   ]
  },
  {
   "cell_type": "markdown",
   "id": "f6d75194",
   "metadata": {
    "papermill": {
     "duration": 0.05735,
     "end_time": "2022-03-30T05:54:06.125205",
     "exception": false,
     "start_time": "2022-03-30T05:54:06.067855",
     "status": "completed"
    },
    "tags": []
   },
   "source": [
    "## CPC labels\n",
    "obtained from [CPC meaning dataset](https://www.kaggle.com/datasets/xhlulu/cpc-codes), more details on how to incorporate it can be gained from [Remek Kinas' Notebook](https://www.kaggle.com/code/remekkinas/eda-and-feature-engineering)"
   ]
  },
  {
   "cell_type": "code",
   "execution_count": 30,
   "id": "dfeb6ec5",
   "metadata": {
    "execution": {
     "iopub.execute_input": "2022-03-30T05:54:06.246828Z",
     "iopub.status.busy": "2022-03-30T05:54:06.246301Z",
     "iopub.status.idle": "2022-03-30T05:54:07.252605Z",
     "shell.execute_reply": "2022-03-30T05:54:07.251889Z",
     "shell.execute_reply.started": "2022-03-30T05:38:27.831334Z"
    },
    "papermill": {
     "duration": 1.069316,
     "end_time": "2022-03-30T05:54:07.252729",
     "exception": false,
     "start_time": "2022-03-30T05:54:06.183413",
     "status": "completed"
    },
    "tags": []
   },
   "outputs": [
    {
     "data": {
      "text/html": [
       "<div>\n",
       "<style scoped>\n",
       "    .dataframe tbody tr th:only-of-type {\n",
       "        vertical-align: middle;\n",
       "    }\n",
       "\n",
       "    .dataframe tbody tr th {\n",
       "        vertical-align: top;\n",
       "    }\n",
       "\n",
       "    .dataframe thead th {\n",
       "        text-align: right;\n",
       "    }\n",
       "</style>\n",
       "<table border=\"1\" class=\"dataframe\">\n",
       "  <thead>\n",
       "    <tr style=\"text-align: right;\">\n",
       "      <th></th>\n",
       "      <th>code</th>\n",
       "      <th>title</th>\n",
       "      <th>section</th>\n",
       "      <th>class</th>\n",
       "      <th>subclass</th>\n",
       "      <th>group</th>\n",
       "      <th>main_group</th>\n",
       "    </tr>\n",
       "  </thead>\n",
       "  <tbody>\n",
       "    <tr>\n",
       "      <th>0</th>\n",
       "      <td>A</td>\n",
       "      <td>HUMAN NECESSITIES</td>\n",
       "      <td>A</td>\n",
       "      <td>NaN</td>\n",
       "      <td>NaN</td>\n",
       "      <td>NaN</td>\n",
       "      <td>NaN</td>\n",
       "    </tr>\n",
       "    <tr>\n",
       "      <th>1</th>\n",
       "      <td>A01</td>\n",
       "      <td>AGRICULTURE; FORESTRY; ANIMAL HUSBANDRY; HUNTI...</td>\n",
       "      <td>A</td>\n",
       "      <td>01</td>\n",
       "      <td>NaN</td>\n",
       "      <td>NaN</td>\n",
       "      <td>NaN</td>\n",
       "    </tr>\n",
       "    <tr>\n",
       "      <th>2</th>\n",
       "      <td>A01B</td>\n",
       "      <td>SOIL WORKING IN AGRICULTURE OR FORESTRY; PARTS...</td>\n",
       "      <td>A</td>\n",
       "      <td>01</td>\n",
       "      <td>B</td>\n",
       "      <td>NaN</td>\n",
       "      <td>NaN</td>\n",
       "    </tr>\n",
       "    <tr>\n",
       "      <th>3</th>\n",
       "      <td>A01B1/00</td>\n",
       "      <td>Hand tools (edge trimmers for lawns A01G3/06  ...</td>\n",
       "      <td>A</td>\n",
       "      <td>01</td>\n",
       "      <td>B</td>\n",
       "      <td>1</td>\n",
       "      <td>00</td>\n",
       "    </tr>\n",
       "    <tr>\n",
       "      <th>4</th>\n",
       "      <td>A01B1/02</td>\n",
       "      <td>Spades; Shovels {(hand-operated dredgers E02F3...</td>\n",
       "      <td>A</td>\n",
       "      <td>01</td>\n",
       "      <td>B</td>\n",
       "      <td>1</td>\n",
       "      <td>02</td>\n",
       "    </tr>\n",
       "    <tr>\n",
       "      <th>5</th>\n",
       "      <td>A01B1/022</td>\n",
       "      <td>{Collapsible; extensible; combinations with ot...</td>\n",
       "      <td>A</td>\n",
       "      <td>01</td>\n",
       "      <td>B</td>\n",
       "      <td>1</td>\n",
       "      <td>022</td>\n",
       "    </tr>\n",
       "    <tr>\n",
       "      <th>6</th>\n",
       "      <td>A01B1/024</td>\n",
       "      <td>{Foot protectors attached to the blade}</td>\n",
       "      <td>A</td>\n",
       "      <td>01</td>\n",
       "      <td>B</td>\n",
       "      <td>1</td>\n",
       "      <td>024</td>\n",
       "    </tr>\n",
       "    <tr>\n",
       "      <th>7</th>\n",
       "      <td>A01B1/026</td>\n",
       "      <td>{with auxiliary handles for facilitating lifting}</td>\n",
       "      <td>A</td>\n",
       "      <td>01</td>\n",
       "      <td>B</td>\n",
       "      <td>1</td>\n",
       "      <td>026</td>\n",
       "    </tr>\n",
       "    <tr>\n",
       "      <th>8</th>\n",
       "      <td>A01B1/028</td>\n",
       "      <td>{with ground abutment shoes or earth anchors f...</td>\n",
       "      <td>A</td>\n",
       "      <td>01</td>\n",
       "      <td>B</td>\n",
       "      <td>1</td>\n",
       "      <td>028</td>\n",
       "    </tr>\n",
       "    <tr>\n",
       "      <th>9</th>\n",
       "      <td>A01B1/04</td>\n",
       "      <td>with teeth</td>\n",
       "      <td>A</td>\n",
       "      <td>01</td>\n",
       "      <td>B</td>\n",
       "      <td>1</td>\n",
       "      <td>04</td>\n",
       "    </tr>\n",
       "  </tbody>\n",
       "</table>\n",
       "</div>"
      ],
      "text/plain": [
       "        code                                              title section class  \\\n",
       "0          A                                  HUMAN NECESSITIES       A   NaN   \n",
       "1        A01  AGRICULTURE; FORESTRY; ANIMAL HUSBANDRY; HUNTI...       A    01   \n",
       "2       A01B  SOIL WORKING IN AGRICULTURE OR FORESTRY; PARTS...       A    01   \n",
       "3   A01B1/00  Hand tools (edge trimmers for lawns A01G3/06  ...       A    01   \n",
       "4   A01B1/02  Spades; Shovels {(hand-operated dredgers E02F3...       A    01   \n",
       "5  A01B1/022  {Collapsible; extensible; combinations with ot...       A    01   \n",
       "6  A01B1/024            {Foot protectors attached to the blade}       A    01   \n",
       "7  A01B1/026  {with auxiliary handles for facilitating lifting}       A    01   \n",
       "8  A01B1/028  {with ground abutment shoes or earth anchors f...       A    01   \n",
       "9   A01B1/04                                         with teeth       A    01   \n",
       "\n",
       "  subclass group main_group  \n",
       "0      NaN   NaN        NaN  \n",
       "1      NaN   NaN        NaN  \n",
       "2        B   NaN        NaN  \n",
       "3        B     1         00  \n",
       "4        B     1         02  \n",
       "5        B     1        022  \n",
       "6        B     1        024  \n",
       "7        B     1        026  \n",
       "8        B     1        028  \n",
       "9        B     1         04  "
      ]
     },
     "execution_count": 30,
     "metadata": {},
     "output_type": "execute_result"
    }
   ],
   "source": [
    "cpc_codes = pd.read_csv(\"../input/cpc-codes/titles.csv\", dtype=str)\n",
    "cpc_codes.head(10)"
   ]
  },
  {
   "cell_type": "code",
   "execution_count": 31,
   "id": "062b0ee3",
   "metadata": {
    "execution": {
     "iopub.execute_input": "2022-03-30T05:54:07.402065Z",
     "iopub.status.busy": "2022-03-30T05:54:07.383716Z",
     "iopub.status.idle": "2022-03-30T05:54:07.550120Z",
     "shell.execute_reply": "2022-03-30T05:54:07.549525Z",
     "shell.execute_reply.started": "2022-03-30T05:38:29.015447Z"
    },
    "papermill": {
     "duration": 0.235505,
     "end_time": "2022-03-30T05:54:07.550286",
     "exception": false,
     "start_time": "2022-03-30T05:54:07.314781",
     "status": "completed"
    },
    "tags": []
   },
   "outputs": [
    {
     "data": {
      "text/html": [
       "<div>\n",
       "<style scoped>\n",
       "    .dataframe tbody tr th:only-of-type {\n",
       "        vertical-align: middle;\n",
       "    }\n",
       "\n",
       "    .dataframe tbody tr th {\n",
       "        vertical-align: top;\n",
       "    }\n",
       "\n",
       "    .dataframe thead th {\n",
       "        text-align: right;\n",
       "    }\n",
       "</style>\n",
       "<table border=\"1\" class=\"dataframe\">\n",
       "  <thead>\n",
       "    <tr style=\"text-align: right;\">\n",
       "      <th></th>\n",
       "      <th>id</th>\n",
       "      <th>anchor</th>\n",
       "      <th>target</th>\n",
       "      <th>context</th>\n",
       "      <th>score</th>\n",
       "      <th>context_text</th>\n",
       "    </tr>\n",
       "  </thead>\n",
       "  <tbody>\n",
       "    <tr>\n",
       "      <th>0</th>\n",
       "      <td>37d61fd2272659b1</td>\n",
       "      <td>abatement</td>\n",
       "      <td>abatement of pollution</td>\n",
       "      <td>A47</td>\n",
       "      <td>0.50</td>\n",
       "      <td>furniture; domestic articles or appliances; co...</td>\n",
       "    </tr>\n",
       "    <tr>\n",
       "      <th>1</th>\n",
       "      <td>7b9652b17b68b7a4</td>\n",
       "      <td>abatement</td>\n",
       "      <td>act of abating</td>\n",
       "      <td>A47</td>\n",
       "      <td>0.75</td>\n",
       "      <td>furniture; domestic articles or appliances; co...</td>\n",
       "    </tr>\n",
       "    <tr>\n",
       "      <th>2</th>\n",
       "      <td>36d72442aefd8232</td>\n",
       "      <td>abatement</td>\n",
       "      <td>active catalyst</td>\n",
       "      <td>A47</td>\n",
       "      <td>0.25</td>\n",
       "      <td>furniture; domestic articles or appliances; co...</td>\n",
       "    </tr>\n",
       "    <tr>\n",
       "      <th>3</th>\n",
       "      <td>5296b0c19e1ce60e</td>\n",
       "      <td>abatement</td>\n",
       "      <td>eliminating process</td>\n",
       "      <td>A47</td>\n",
       "      <td>0.50</td>\n",
       "      <td>furniture; domestic articles or appliances; co...</td>\n",
       "    </tr>\n",
       "    <tr>\n",
       "      <th>4</th>\n",
       "      <td>54c1e3b9184cb5b6</td>\n",
       "      <td>abatement</td>\n",
       "      <td>forest region</td>\n",
       "      <td>A47</td>\n",
       "      <td>0.00</td>\n",
       "      <td>furniture; domestic articles or appliances; co...</td>\n",
       "    </tr>\n",
       "  </tbody>\n",
       "</table>\n",
       "</div>"
      ],
      "text/plain": [
       "                 id     anchor                  target context  score  \\\n",
       "0  37d61fd2272659b1  abatement  abatement of pollution     A47   0.50   \n",
       "1  7b9652b17b68b7a4  abatement          act of abating     A47   0.75   \n",
       "2  36d72442aefd8232  abatement         active catalyst     A47   0.25   \n",
       "3  5296b0c19e1ce60e  abatement     eliminating process     A47   0.50   \n",
       "4  54c1e3b9184cb5b6  abatement           forest region     A47   0.00   \n",
       "\n",
       "                                        context_text  \n",
       "0  furniture; domestic articles or appliances; co...  \n",
       "1  furniture; domestic articles or appliances; co...  \n",
       "2  furniture; domestic articles or appliances; co...  \n",
       "3  furniture; domestic articles or appliances; co...  \n",
       "4  furniture; domestic articles or appliances; co...  "
      ]
     },
     "execution_count": 31,
     "metadata": {},
     "output_type": "execute_result"
    }
   ],
   "source": [
    "train['context_text'] = train['context'].map(cpc_codes.set_index('code')['title']).str.lower()\n",
    "train.head()"
   ]
  },
  {
   "cell_type": "code",
   "execution_count": 32,
   "id": "26b173e8",
   "metadata": {
    "execution": {
     "iopub.execute_input": "2022-03-30T05:54:07.697339Z",
     "iopub.status.busy": "2022-03-30T05:54:07.696748Z",
     "iopub.status.idle": "2022-03-30T05:54:07.714958Z",
     "shell.execute_reply": "2022-03-30T05:54:07.714382Z",
     "shell.execute_reply.started": "2022-03-30T05:38:29.162547Z"
    },
    "papermill": {
     "duration": 0.104318,
     "end_time": "2022-03-30T05:54:07.715093",
     "exception": false,
     "start_time": "2022-03-30T05:54:07.610775",
     "status": "completed"
    },
    "tags": []
   },
   "outputs": [
    {
     "data": {
      "text/html": [
       "<div>\n",
       "<style scoped>\n",
       "    .dataframe tbody tr th:only-of-type {\n",
       "        vertical-align: middle;\n",
       "    }\n",
       "\n",
       "    .dataframe tbody tr th {\n",
       "        vertical-align: top;\n",
       "    }\n",
       "\n",
       "    .dataframe thead th {\n",
       "        text-align: right;\n",
       "    }\n",
       "</style>\n",
       "<table border=\"1\" class=\"dataframe\">\n",
       "  <thead>\n",
       "    <tr style=\"text-align: right;\">\n",
       "      <th></th>\n",
       "      <th>id</th>\n",
       "      <th>anchor</th>\n",
       "      <th>target</th>\n",
       "      <th>context</th>\n",
       "      <th>score</th>\n",
       "      <th>context_text</th>\n",
       "      <th>text</th>\n",
       "    </tr>\n",
       "  </thead>\n",
       "  <tbody>\n",
       "    <tr>\n",
       "      <th>0</th>\n",
       "      <td>37d61fd2272659b1</td>\n",
       "      <td>abatement</td>\n",
       "      <td>abatement of pollution</td>\n",
       "      <td>A47</td>\n",
       "      <td>0.50</td>\n",
       "      <td>furniture; domestic articles or appliances; co...</td>\n",
       "      <td>abatement[SEP]abatement of pollution[SEP]furni...</td>\n",
       "    </tr>\n",
       "    <tr>\n",
       "      <th>1</th>\n",
       "      <td>7b9652b17b68b7a4</td>\n",
       "      <td>abatement</td>\n",
       "      <td>act of abating</td>\n",
       "      <td>A47</td>\n",
       "      <td>0.75</td>\n",
       "      <td>furniture; domestic articles or appliances; co...</td>\n",
       "      <td>abatement[SEP]act of abating[SEP]furniture; do...</td>\n",
       "    </tr>\n",
       "    <tr>\n",
       "      <th>2</th>\n",
       "      <td>36d72442aefd8232</td>\n",
       "      <td>abatement</td>\n",
       "      <td>active catalyst</td>\n",
       "      <td>A47</td>\n",
       "      <td>0.25</td>\n",
       "      <td>furniture; domestic articles or appliances; co...</td>\n",
       "      <td>abatement[SEP]active catalyst[SEP]furniture; d...</td>\n",
       "    </tr>\n",
       "    <tr>\n",
       "      <th>3</th>\n",
       "      <td>5296b0c19e1ce60e</td>\n",
       "      <td>abatement</td>\n",
       "      <td>eliminating process</td>\n",
       "      <td>A47</td>\n",
       "      <td>0.50</td>\n",
       "      <td>furniture; domestic articles or appliances; co...</td>\n",
       "      <td>abatement[SEP]eliminating process[SEP]furnitur...</td>\n",
       "    </tr>\n",
       "    <tr>\n",
       "      <th>4</th>\n",
       "      <td>54c1e3b9184cb5b6</td>\n",
       "      <td>abatement</td>\n",
       "      <td>forest region</td>\n",
       "      <td>A47</td>\n",
       "      <td>0.00</td>\n",
       "      <td>furniture; domestic articles or appliances; co...</td>\n",
       "      <td>abatement[SEP]forest region[SEP]furniture; dom...</td>\n",
       "    </tr>\n",
       "  </tbody>\n",
       "</table>\n",
       "</div>"
      ],
      "text/plain": [
       "                 id     anchor                  target context  score  \\\n",
       "0  37d61fd2272659b1  abatement  abatement of pollution     A47   0.50   \n",
       "1  7b9652b17b68b7a4  abatement          act of abating     A47   0.75   \n",
       "2  36d72442aefd8232  abatement         active catalyst     A47   0.25   \n",
       "3  5296b0c19e1ce60e  abatement     eliminating process     A47   0.50   \n",
       "4  54c1e3b9184cb5b6  abatement           forest region     A47   0.00   \n",
       "\n",
       "                                        context_text  \\\n",
       "0  furniture; domestic articles or appliances; co...   \n",
       "1  furniture; domestic articles or appliances; co...   \n",
       "2  furniture; domestic articles or appliances; co...   \n",
       "3  furniture; domestic articles or appliances; co...   \n",
       "4  furniture; domestic articles or appliances; co...   \n",
       "\n",
       "                                                text  \n",
       "0  abatement[SEP]abatement of pollution[SEP]furni...  \n",
       "1  abatement[SEP]act of abating[SEP]furniture; do...  \n",
       "2  abatement[SEP]active catalyst[SEP]furniture; d...  \n",
       "3  abatement[SEP]eliminating process[SEP]furnitur...  \n",
       "4  abatement[SEP]forest region[SEP]furniture; dom...  "
      ]
     },
     "execution_count": 32,
     "metadata": {},
     "output_type": "execute_result"
    }
   ],
   "source": [
    "train['text'] = train['anchor'] + '[SEP]' + train['target'] + '[SEP]'  + train['context_text']\n",
    "train.head()"
   ]
  },
  {
   "cell_type": "code",
   "execution_count": 33,
   "id": "d83c374b",
   "metadata": {
    "execution": {
     "iopub.execute_input": "2022-03-30T05:54:07.842688Z",
     "iopub.status.busy": "2022-03-30T05:54:07.842104Z",
     "iopub.status.idle": "2022-03-30T05:54:07.942917Z",
     "shell.execute_reply": "2022-03-30T05:54:07.942405Z",
     "shell.execute_reply.started": "2022-03-30T05:38:29.209680Z"
    },
    "papermill": {
     "duration": 0.166215,
     "end_time": "2022-03-30T05:54:07.943034",
     "exception": false,
     "start_time": "2022-03-30T05:54:07.776819",
     "status": "completed"
    },
    "tags": []
   },
   "outputs": [
    {
     "data": {
      "text/html": [
       "<div>\n",
       "<style scoped>\n",
       "    .dataframe tbody tr th:only-of-type {\n",
       "        vertical-align: middle;\n",
       "    }\n",
       "\n",
       "    .dataframe tbody tr th {\n",
       "        vertical-align: top;\n",
       "    }\n",
       "\n",
       "    .dataframe thead th {\n",
       "        text-align: right;\n",
       "    }\n",
       "</style>\n",
       "<table border=\"1\" class=\"dataframe\">\n",
       "  <thead>\n",
       "    <tr style=\"text-align: right;\">\n",
       "      <th></th>\n",
       "      <th>id</th>\n",
       "      <th>anchor</th>\n",
       "      <th>target</th>\n",
       "      <th>context</th>\n",
       "      <th>context_text</th>\n",
       "      <th>text</th>\n",
       "    </tr>\n",
       "  </thead>\n",
       "  <tbody>\n",
       "    <tr>\n",
       "      <th>0</th>\n",
       "      <td>4112d61851461f60</td>\n",
       "      <td>opc drum</td>\n",
       "      <td>inorganic photoconductor drum</td>\n",
       "      <td>G02</td>\n",
       "      <td>optics</td>\n",
       "      <td>opc drum[SEP]inorganic photoconductor drum[SEP...</td>\n",
       "    </tr>\n",
       "    <tr>\n",
       "      <th>1</th>\n",
       "      <td>09e418c93a776564</td>\n",
       "      <td>adjust gas flow</td>\n",
       "      <td>altering gas flow</td>\n",
       "      <td>F23</td>\n",
       "      <td>combustion apparatus; combustion processes</td>\n",
       "      <td>adjust gas flow[SEP]altering gas flow[SEP]comb...</td>\n",
       "    </tr>\n",
       "    <tr>\n",
       "      <th>2</th>\n",
       "      <td>36baf228038e314b</td>\n",
       "      <td>lower trunnion</td>\n",
       "      <td>lower locating</td>\n",
       "      <td>B60</td>\n",
       "      <td>vehicles in general</td>\n",
       "      <td>lower trunnion[SEP]lower locating[SEP]vehicles...</td>\n",
       "    </tr>\n",
       "    <tr>\n",
       "      <th>3</th>\n",
       "      <td>1f37ead645e7f0c8</td>\n",
       "      <td>cap component</td>\n",
       "      <td>upper portion</td>\n",
       "      <td>D06</td>\n",
       "      <td>treatment of textiles or the like; laundering;...</td>\n",
       "      <td>cap component[SEP]upper portion[SEP]treatment ...</td>\n",
       "    </tr>\n",
       "    <tr>\n",
       "      <th>4</th>\n",
       "      <td>71a5b6ad068d531f</td>\n",
       "      <td>neural stimulation</td>\n",
       "      <td>artificial neural network</td>\n",
       "      <td>H04</td>\n",
       "      <td>electric communication technique</td>\n",
       "      <td>neural stimulation[SEP]artificial neural netwo...</td>\n",
       "    </tr>\n",
       "  </tbody>\n",
       "</table>\n",
       "</div>"
      ],
      "text/plain": [
       "                 id              anchor                         target  \\\n",
       "0  4112d61851461f60            opc drum  inorganic photoconductor drum   \n",
       "1  09e418c93a776564     adjust gas flow              altering gas flow   \n",
       "2  36baf228038e314b      lower trunnion                 lower locating   \n",
       "3  1f37ead645e7f0c8       cap component                  upper portion   \n",
       "4  71a5b6ad068d531f  neural stimulation      artificial neural network   \n",
       "\n",
       "  context                                       context_text  \\\n",
       "0     G02                                             optics   \n",
       "1     F23         combustion apparatus; combustion processes   \n",
       "2     B60                                vehicles in general   \n",
       "3     D06  treatment of textiles or the like; laundering;...   \n",
       "4     H04                   electric communication technique   \n",
       "\n",
       "                                                text  \n",
       "0  opc drum[SEP]inorganic photoconductor drum[SEP...  \n",
       "1  adjust gas flow[SEP]altering gas flow[SEP]comb...  \n",
       "2  lower trunnion[SEP]lower locating[SEP]vehicles...  \n",
       "3  cap component[SEP]upper portion[SEP]treatment ...  \n",
       "4  neural stimulation[SEP]artificial neural netwo...  "
      ]
     },
     "execution_count": 33,
     "metadata": {},
     "output_type": "execute_result"
    }
   ],
   "source": [
    "test['context_text'] = test['context'].map(cpc_codes.set_index('code')['title']).str.lower()\n",
    "test['text'] = test['anchor'] + '[SEP]' + test['target'] + '[SEP]'  + test['context_text']\n",
    "test.head()"
   ]
  },
  {
   "cell_type": "markdown",
   "id": "bb77ca39",
   "metadata": {
    "papermill": {
     "duration": 0.059534,
     "end_time": "2022-03-30T05:54:08.062353",
     "exception": false,
     "start_time": "2022-03-30T05:54:08.002819",
     "status": "completed"
    },
    "tags": []
   },
   "source": [
    "## stratified k fold (undone)\n",
    "\n",
    "[reference](https://www.kaggle.com/code/backup1123/pytorch-k-fold-cross-validation-dataloader/notebook)"
   ]
  },
  {
   "cell_type": "code",
   "execution_count": 34,
   "id": "3a8d5082",
   "metadata": {
    "execution": {
     "iopub.execute_input": "2022-03-30T05:54:08.189781Z",
     "iopub.status.busy": "2022-03-30T05:54:08.189252Z",
     "iopub.status.idle": "2022-03-30T05:54:08.275724Z",
     "shell.execute_reply": "2022-03-30T05:54:08.275231Z",
     "shell.execute_reply.started": "2022-03-30T05:38:29.304989Z"
    },
    "papermill": {
     "duration": 0.150413,
     "end_time": "2022-03-30T05:54:08.275871",
     "exception": false,
     "start_time": "2022-03-30T05:54:08.125458",
     "status": "completed"
    },
    "tags": []
   },
   "outputs": [],
   "source": [
    "from sklearn.model_selection import StratifiedKFold, train_test_split"
   ]
  },
  {
   "cell_type": "code",
   "execution_count": 35,
   "id": "f78e5f3c",
   "metadata": {
    "execution": {
     "iopub.execute_input": "2022-03-30T05:54:08.417304Z",
     "iopub.status.busy": "2022-03-30T05:54:08.416343Z",
     "iopub.status.idle": "2022-03-30T05:54:08.429073Z",
     "shell.execute_reply": "2022-03-30T05:54:08.429555Z",
     "shell.execute_reply.started": "2022-03-30T05:40:09.905833Z"
    },
    "papermill": {
     "duration": 0.089346,
     "end_time": "2022-03-30T05:54:08.429722",
     "exception": false,
     "start_time": "2022-03-30T05:54:08.340376",
     "status": "completed"
    },
    "tags": []
   },
   "outputs": [
    {
     "data": {
      "text/html": [
       "<div>\n",
       "<style scoped>\n",
       "    .dataframe tbody tr th:only-of-type {\n",
       "        vertical-align: middle;\n",
       "    }\n",
       "\n",
       "    .dataframe tbody tr th {\n",
       "        vertical-align: top;\n",
       "    }\n",
       "\n",
       "    .dataframe thead th {\n",
       "        text-align: right;\n",
       "    }\n",
       "</style>\n",
       "<table border=\"1\" class=\"dataframe\">\n",
       "  <thead>\n",
       "    <tr style=\"text-align: right;\">\n",
       "      <th></th>\n",
       "      <th>id</th>\n",
       "      <th>anchor</th>\n",
       "      <th>target</th>\n",
       "      <th>context</th>\n",
       "      <th>score</th>\n",
       "      <th>context_text</th>\n",
       "      <th>text</th>\n",
       "      <th>score_map</th>\n",
       "    </tr>\n",
       "  </thead>\n",
       "  <tbody>\n",
       "    <tr>\n",
       "      <th>0</th>\n",
       "      <td>37d61fd2272659b1</td>\n",
       "      <td>abatement</td>\n",
       "      <td>abatement of pollution</td>\n",
       "      <td>A47</td>\n",
       "      <td>0.50</td>\n",
       "      <td>furniture; domestic articles or appliances; co...</td>\n",
       "      <td>abatement[SEP]abatement of pollution[SEP]furni...</td>\n",
       "      <td>2</td>\n",
       "    </tr>\n",
       "    <tr>\n",
       "      <th>1</th>\n",
       "      <td>7b9652b17b68b7a4</td>\n",
       "      <td>abatement</td>\n",
       "      <td>act of abating</td>\n",
       "      <td>A47</td>\n",
       "      <td>0.75</td>\n",
       "      <td>furniture; domestic articles or appliances; co...</td>\n",
       "      <td>abatement[SEP]act of abating[SEP]furniture; do...</td>\n",
       "      <td>3</td>\n",
       "    </tr>\n",
       "    <tr>\n",
       "      <th>2</th>\n",
       "      <td>36d72442aefd8232</td>\n",
       "      <td>abatement</td>\n",
       "      <td>active catalyst</td>\n",
       "      <td>A47</td>\n",
       "      <td>0.25</td>\n",
       "      <td>furniture; domestic articles or appliances; co...</td>\n",
       "      <td>abatement[SEP]active catalyst[SEP]furniture; d...</td>\n",
       "      <td>1</td>\n",
       "    </tr>\n",
       "    <tr>\n",
       "      <th>3</th>\n",
       "      <td>5296b0c19e1ce60e</td>\n",
       "      <td>abatement</td>\n",
       "      <td>eliminating process</td>\n",
       "      <td>A47</td>\n",
       "      <td>0.50</td>\n",
       "      <td>furniture; domestic articles or appliances; co...</td>\n",
       "      <td>abatement[SEP]eliminating process[SEP]furnitur...</td>\n",
       "      <td>2</td>\n",
       "    </tr>\n",
       "    <tr>\n",
       "      <th>4</th>\n",
       "      <td>54c1e3b9184cb5b6</td>\n",
       "      <td>abatement</td>\n",
       "      <td>forest region</td>\n",
       "      <td>A47</td>\n",
       "      <td>0.00</td>\n",
       "      <td>furniture; domestic articles or appliances; co...</td>\n",
       "      <td>abatement[SEP]forest region[SEP]furniture; dom...</td>\n",
       "      <td>0</td>\n",
       "    </tr>\n",
       "  </tbody>\n",
       "</table>\n",
       "</div>"
      ],
      "text/plain": [
       "                 id     anchor                  target context  score  \\\n",
       "0  37d61fd2272659b1  abatement  abatement of pollution     A47   0.50   \n",
       "1  7b9652b17b68b7a4  abatement          act of abating     A47   0.75   \n",
       "2  36d72442aefd8232  abatement         active catalyst     A47   0.25   \n",
       "3  5296b0c19e1ce60e  abatement     eliminating process     A47   0.50   \n",
       "4  54c1e3b9184cb5b6  abatement           forest region     A47   0.00   \n",
       "\n",
       "                                        context_text  \\\n",
       "0  furniture; domestic articles or appliances; co...   \n",
       "1  furniture; domestic articles or appliances; co...   \n",
       "2  furniture; domestic articles or appliances; co...   \n",
       "3  furniture; domestic articles or appliances; co...   \n",
       "4  furniture; domestic articles or appliances; co...   \n",
       "\n",
       "                                                text  score_map  \n",
       "0  abatement[SEP]abatement of pollution[SEP]furni...          2  \n",
       "1  abatement[SEP]act of abating[SEP]furniture; do...          3  \n",
       "2  abatement[SEP]active catalyst[SEP]furniture; d...          1  \n",
       "3  abatement[SEP]eliminating process[SEP]furnitur...          2  \n",
       "4  abatement[SEP]forest region[SEP]furniture; dom...          0  "
      ]
     },
     "execution_count": 35,
     "metadata": {},
     "output_type": "execute_result"
    }
   ],
   "source": [
    "train['score_map'] = train['score'].map({0.00: 0, 0.25: 1, 0.50: 2, 0.75: 3, 1.00: 4})\n",
    "train.head()"
   ]
  },
  {
   "cell_type": "code",
   "execution_count": 36,
   "id": "44755963",
   "metadata": {
    "execution": {
     "iopub.execute_input": "2022-03-30T05:54:08.557026Z",
     "iopub.status.busy": "2022-03-30T05:54:08.556481Z",
     "iopub.status.idle": "2022-03-30T05:54:08.584407Z",
     "shell.execute_reply": "2022-03-30T05:54:08.583820Z",
     "shell.execute_reply.started": "2022-03-30T05:47:54.495790Z"
    },
    "papermill": {
     "duration": 0.091518,
     "end_time": "2022-03-30T05:54:08.584522",
     "exception": false,
     "start_time": "2022-03-30T05:54:08.493004",
     "status": "completed"
    },
    "tags": []
   },
   "outputs": [],
   "source": [
    "X_train, X_val = train_test_split(\n",
    "    train, test_size=0.3, random_state=42\n",
    ")"
   ]
  },
  {
   "cell_type": "code",
   "execution_count": 37,
   "id": "32715e33",
   "metadata": {
    "execution": {
     "iopub.execute_input": "2022-03-30T05:54:08.709075Z",
     "iopub.status.busy": "2022-03-30T05:54:08.708353Z",
     "iopub.status.idle": "2022-03-30T05:54:08.710023Z",
     "shell.execute_reply": "2022-03-30T05:54:08.710481Z"
    },
    "papermill": {
     "duration": 0.066253,
     "end_time": "2022-03-30T05:54:08.710627",
     "exception": false,
     "start_time": "2022-03-30T05:54:08.644374",
     "status": "completed"
    },
    "tags": []
   },
   "outputs": [],
   "source": [
    "# Fold = StratifiedKFold(n_splits=CFG.n_fold, shuffle=True, random_state=CFG.seed)\n",
    "# for n, (train_index, val_index) in enumerate(Fold.split(train, train['score_map'])):\n",
    "#     train.loc[val_index, 'fold'] = int(n)\n",
    "# train['fold'] = train['fold'].astype(int)\n",
    "# display(train.groupby('fold').size())"
   ]
  },
  {
   "cell_type": "markdown",
   "id": "5d7ed3cb",
   "metadata": {
    "papermill": {
     "duration": 0.060721,
     "end_time": "2022-03-30T05:54:08.832722",
     "exception": false,
     "start_time": "2022-03-30T05:54:08.772001",
     "status": "completed"
    },
    "tags": []
   },
   "source": [
    "# pickling dataset"
   ]
  },
  {
   "cell_type": "code",
   "execution_count": 38,
   "id": "a154b5ba",
   "metadata": {
    "execution": {
     "iopub.execute_input": "2022-03-30T05:54:08.958408Z",
     "iopub.status.busy": "2022-03-30T05:54:08.957687Z",
     "iopub.status.idle": "2022-03-30T05:54:09.012347Z",
     "shell.execute_reply": "2022-03-30T05:54:09.011692Z",
     "shell.execute_reply.started": "2022-03-28T08:52:50.85429Z"
    },
    "papermill": {
     "duration": 0.11923,
     "end_time": "2022-03-30T05:54:09.012496",
     "exception": false,
     "start_time": "2022-03-30T05:54:08.893266",
     "status": "completed"
    },
    "tags": []
   },
   "outputs": [],
   "source": [
    "X_train.to_pickle('train.pkl')\n",
    "X_val.to_pickle('val.pkl')\n",
    "test.to_pickle('test.pkl')"
   ]
  },
  {
   "cell_type": "markdown",
   "id": "15ec2c0c",
   "metadata": {
    "papermill": {
     "duration": 0.089451,
     "end_time": "2022-03-30T05:54:09.192551",
     "exception": false,
     "start_time": "2022-03-30T05:54:09.103100",
     "status": "completed"
    },
    "tags": []
   },
   "source": [
    "# modelling\n",
    "---\n",
    "probably use 2 models:\n",
    "1. [t5 for multi-label classification](https://www.kaggle.com/code/prithvijaunjale/t5-multi-label-classification/notebook) (they used BCS and AdamW which are wrong)\n",
    "2. [deberta](https://www.kaggle.com/code/yasufuminakama/pppm-deberta-v3-large-baseline-w-w-b-train/notebook) (more optimized BERT, upgraded from roberta)\n",
    "\n",
    "explore:\n",
    "1. [raytune](https://www.ray.io/ray-tune)\n",
    "2. wandb\n",
    "3. oof (out-of-fold) validation"
   ]
  }
 ],
 "metadata": {
  "kernelspec": {
   "display_name": "Python 3",
   "language": "python",
   "name": "python3"
  },
  "language_info": {
   "codemirror_mode": {
    "name": "ipython",
    "version": 3
   },
   "file_extension": ".py",
   "mimetype": "text/x-python",
   "name": "python",
   "nbconvert_exporter": "python",
   "pygments_lexer": "ipython3",
   "version": "3.7.12"
  },
  "papermill": {
   "default_parameters": {},
   "duration": 38.09293,
   "end_time": "2022-03-30T05:54:12.155017",
   "environment_variables": {},
   "exception": null,
   "input_path": "__notebook__.ipynb",
   "output_path": "__notebook__.ipynb",
   "parameters": {},
   "start_time": "2022-03-30T05:53:34.062087",
   "version": "2.3.3"
  }
 },
 "nbformat": 4,
 "nbformat_minor": 5
}
