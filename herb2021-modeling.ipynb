{
 "cells": [
  {
   "cell_type": "markdown",
   "id": "0c42ec10",
   "metadata": {
    "_cell_guid": "b1076dfc-b9ad-4769-8c92-a6c4dae69d19",
    "_uuid": "8f2839f25d086af736a60e9eeb907d3b93b6e0e5",
    "papermill": {
     "duration": 0.020531,
     "end_time": "2022-03-20T06:49:02.364076",
     "exception": false,
     "start_time": "2022-03-20T06:49:02.343545",
     "status": "completed"
    },
    "tags": []
   },
   "source": [
    "# Herb2021 "
   ]
  },
  {
   "cell_type": "markdown",
   "id": "0ef6b860",
   "metadata": {
    "papermill": {
     "duration": 0.019797,
     "end_time": "2022-03-20T06:49:02.404374",
     "exception": false,
     "start_time": "2022-03-20T06:49:02.384577",
     "status": "completed"
    },
    "tags": []
   },
   "source": [
    "# Identifying Plant Species"
   ]
  },
  {
   "cell_type": "code",
   "execution_count": 1,
   "id": "947b9fc1",
   "metadata": {
    "execution": {
     "iopub.execute_input": "2022-03-20T06:49:02.453574Z",
     "iopub.status.busy": "2022-03-20T06:49:02.452767Z",
     "iopub.status.idle": "2022-03-20T06:49:04.224062Z",
     "shell.execute_reply": "2022-03-20T06:49:04.223253Z",
     "shell.execute_reply.started": "2022-03-20T06:18:45.411450Z"
    },
    "papermill": {
     "duration": 1.799821,
     "end_time": "2022-03-20T06:49:04.224259",
     "exception": false,
     "start_time": "2022-03-20T06:49:02.424438",
     "status": "completed"
    },
    "tags": []
   },
   "outputs": [],
   "source": [
    "import numpy as np \n",
    "import pandas as pd\n",
    "import matplotlib.pyplot as plt\n",
    "from PIL import Image\n",
    "\n",
    "import os\n",
    "import json\n",
    "import collections\n",
    "\n",
    "import torch\n",
    "import torch.nn as nn\n",
    "import torchvision\n",
    "import torchvision.transforms as transforms\n",
    "from torch.utils.data import Dataset, DataLoader"
   ]
  },
  {
   "cell_type": "markdown",
   "id": "c9d0f321",
   "metadata": {
    "papermill": {
     "duration": 0.018984,
     "end_time": "2022-03-20T06:49:04.263317",
     "exception": false,
     "start_time": "2022-03-20T06:49:04.244333",
     "status": "completed"
    },
    "tags": []
   },
   "source": [
    "# Loading Data\n",
    "---\n",
    "(adapted from [YAROSLAV ISAIENKOV's notebook](https://www.kaggle.com/code/ihelon/herbarium-2021-exploratory-data-analysis))"
   ]
  },
  {
   "cell_type": "markdown",
   "id": "fc3edd7d",
   "metadata": {
    "papermill": {
     "duration": 0.01897,
     "end_time": "2022-03-20T06:49:04.301548",
     "exception": false,
     "start_time": "2022-03-20T06:49:04.282578",
     "status": "completed"
    },
    "tags": []
   },
   "source": [
    "Can't do a simple `pd.read_json()` because not all arrays of the same length."
   ]
  },
  {
   "cell_type": "code",
   "execution_count": 2,
   "id": "898567f1",
   "metadata": {
    "execution": {
     "iopub.execute_input": "2022-03-20T06:49:04.348426Z",
     "iopub.status.busy": "2022-03-20T06:49:04.347725Z",
     "iopub.status.idle": "2022-03-20T06:49:12.969277Z",
     "shell.execute_reply": "2022-03-20T06:49:12.968494Z",
     "shell.execute_reply.started": "2022-03-20T06:31:15.022487Z"
    },
    "papermill": {
     "duration": 8.648255,
     "end_time": "2022-03-20T06:49:12.969415",
     "exception": false,
     "start_time": "2022-03-20T06:49:04.321160",
     "status": "completed"
    },
    "tags": []
   },
   "outputs": [],
   "source": [
    "PATH_BASE = \"../input/herbarium-2021-fgvc8/\"\n",
    "PATH_TRAIN = os.path.join(PATH_BASE, \"train/\")\n",
    "PATH_TRAIN_META = os.path.join(PATH_TRAIN, \"metadata.json\")\n",
    "PATH_TRAIN_IMG = os.path.join(PATH_TRAIN, \"images/\")\n",
    "\n",
    "with open(PATH_TRAIN_META) as train_md:\n",
    "    metadata = json.load(train_md)"
   ]
  },
  {
   "cell_type": "code",
   "execution_count": 3,
   "id": "aaeee252",
   "metadata": {
    "execution": {
     "iopub.execute_input": "2022-03-20T06:49:13.015704Z",
     "iopub.status.busy": "2022-03-20T06:49:13.014905Z",
     "iopub.status.idle": "2022-03-20T06:49:13.020004Z",
     "shell.execute_reply": "2022-03-20T06:49:13.019344Z",
     "shell.execute_reply.started": "2022-03-20T06:19:00.276529Z"
    },
    "papermill": {
     "duration": 0.030798,
     "end_time": "2022-03-20T06:49:13.020156",
     "exception": false,
     "start_time": "2022-03-20T06:49:12.989358",
     "status": "completed"
    },
    "tags": []
   },
   "outputs": [
    {
     "data": {
      "text/plain": [
       "dict_keys(['annotations', 'categories', 'images', 'info', 'licenses', 'institutions'])"
      ]
     },
     "execution_count": 3,
     "metadata": {},
     "output_type": "execute_result"
    }
   ],
   "source": [
    "metadata.keys()"
   ]
  },
  {
   "cell_type": "code",
   "execution_count": 4,
   "id": "dc163670",
   "metadata": {
    "execution": {
     "iopub.execute_input": "2022-03-20T06:49:13.064724Z",
     "iopub.status.busy": "2022-03-20T06:49:13.063853Z",
     "iopub.status.idle": "2022-03-20T06:49:13.069434Z",
     "shell.execute_reply": "2022-03-20T06:49:13.069971Z",
     "shell.execute_reply.started": "2022-03-20T06:19:00.285500Z"
    },
    "papermill": {
     "duration": 0.029448,
     "end_time": "2022-03-20T06:49:13.070127",
     "exception": false,
     "start_time": "2022-03-20T06:49:13.040679",
     "status": "completed"
    },
    "tags": []
   },
   "outputs": [
    {
     "data": {
      "text/plain": [
       "(2257759, 64500, 2257759)"
      ]
     },
     "execution_count": 4,
     "metadata": {},
     "output_type": "execute_result"
    }
   ],
   "source": [
    "len(metadata['annotations']), len(metadata['categories']), len(metadata['images'])"
   ]
  },
  {
   "cell_type": "markdown",
   "id": "9e94ad26",
   "metadata": {
    "papermill": {
     "duration": 0.020338,
     "end_time": "2022-03-20T06:49:13.110895",
     "exception": false,
     "start_time": "2022-03-20T06:49:13.090557",
     "status": "completed"
    },
    "tags": []
   },
   "source": [
    "print samples from the dict keys"
   ]
  },
  {
   "cell_type": "code",
   "execution_count": 5,
   "id": "b995d50b",
   "metadata": {
    "execution": {
     "iopub.execute_input": "2022-03-20T06:49:13.155363Z",
     "iopub.status.busy": "2022-03-20T06:49:13.154476Z",
     "iopub.status.idle": "2022-03-20T06:49:13.163664Z",
     "shell.execute_reply": "2022-03-20T06:49:13.164253Z",
     "shell.execute_reply.started": "2022-03-20T06:19:00.298698Z"
    },
    "papermill": {
     "duration": 0.03302,
     "end_time": "2022-03-20T06:49:13.164428",
     "exception": false,
     "start_time": "2022-03-20T06:49:13.131408",
     "status": "completed"
    },
    "tags": []
   },
   "outputs": [
    {
     "name": "stdout",
     "output_type": "stream",
     "text": [
      "{'category_id': 60492, 'id': 1814367, 'image_id': 1814367, 'institution_id': 0}\n",
      "{'file_name': 'images/604/92/1814367.jpg', 'height': 1000, 'id': 1814367, 'license': 0, 'width': 678}\n",
      "{'family': 'Orchidaceae', 'order': 'Asparagales', 'name': 'Aa calceata (Rchb.f.) Schltr.', 'id': 0}\n",
      "{'id': 0, 'name': 'Public Domain Dedication', 'url': 'http://creativecommons.org/publicdomain/zero/1.0/'}\n",
      "{'id': 0, 'name': 'New York Botanical Garden'}\n"
     ]
    }
   ],
   "source": [
    "print(metadata[\"annotations\"][0])\n",
    "print(metadata[\"images\"][0])\n",
    "print(metadata[\"categories\"][0])\n",
    "print(metadata[\"licenses\"][0])\n",
    "print(metadata[\"institutions\"][0])"
   ]
  },
  {
   "cell_type": "markdown",
   "id": "22f58481",
   "metadata": {
    "papermill": {
     "duration": 0.020695,
     "end_time": "2022-03-20T06:49:13.206517",
     "exception": false,
     "start_time": "2022-03-20T06:49:13.185822",
     "status": "completed"
    },
    "tags": []
   },
   "source": [
    "a few things pop out:\n",
    "1. `category_id` needs to be inner joint with `categories` column\n",
    "2. we are scored on macro f1 on the `id` and `category_id` columns\n",
    "3. the columns we need are:\n",
    "    - id\n",
    "    - height\n",
    "    - width\n",
    "    - path\n",
    "    - category_name\n",
    "    - family_name\n",
    "    - order_name\n",
    "    - category_id"
   ]
  },
  {
   "cell_type": "markdown",
   "id": "3177e8dd",
   "metadata": {
    "papermill": {
     "duration": 0.020507,
     "end_time": "2022-03-20T06:49:13.248014",
     "exception": false,
     "start_time": "2022-03-20T06:49:13.227507",
     "status": "completed"
    },
    "tags": []
   },
   "source": [
    "Join the columns with the same length first."
   ]
  },
  {
   "cell_type": "code",
   "execution_count": 6,
   "id": "3b33cf0d",
   "metadata": {
    "execution": {
     "iopub.execute_input": "2022-03-20T06:49:13.294385Z",
     "iopub.status.busy": "2022-03-20T06:49:13.293668Z",
     "iopub.status.idle": "2022-03-20T06:49:21.317479Z",
     "shell.execute_reply": "2022-03-20T06:49:21.316890Z",
     "shell.execute_reply.started": "2022-03-20T06:19:00.309910Z"
    },
    "papermill": {
     "duration": 8.048457,
     "end_time": "2022-03-20T06:49:21.317609",
     "exception": false,
     "start_time": "2022-03-20T06:49:13.269152",
     "status": "completed"
    },
    "tags": []
   },
   "outputs": [
    {
     "data": {
      "text/html": [
       "<div>\n",
       "<style scoped>\n",
       "    .dataframe tbody tr th:only-of-type {\n",
       "        vertical-align: middle;\n",
       "    }\n",
       "\n",
       "    .dataframe tbody tr th {\n",
       "        vertical-align: top;\n",
       "    }\n",
       "\n",
       "    .dataframe thead th {\n",
       "        text-align: right;\n",
       "    }\n",
       "</style>\n",
       "<table border=\"1\" class=\"dataframe\">\n",
       "  <thead>\n",
       "    <tr style=\"text-align: right;\">\n",
       "      <th></th>\n",
       "      <th>id</th>\n",
       "      <th>height</th>\n",
       "      <th>width</th>\n",
       "      <th>path</th>\n",
       "      <th>category_id</th>\n",
       "    </tr>\n",
       "  </thead>\n",
       "  <tbody>\n",
       "    <tr>\n",
       "      <th>0</th>\n",
       "      <td>1814367</td>\n",
       "      <td>1000</td>\n",
       "      <td>678</td>\n",
       "      <td>images/604/92/1814367.jpg</td>\n",
       "      <td>60492</td>\n",
       "    </tr>\n",
       "    <tr>\n",
       "      <th>1</th>\n",
       "      <td>1308257</td>\n",
       "      <td>1000</td>\n",
       "      <td>666</td>\n",
       "      <td>images/108/24/1308257.jpg</td>\n",
       "      <td>10824</td>\n",
       "    </tr>\n",
       "    <tr>\n",
       "      <th>2</th>\n",
       "      <td>1270453</td>\n",
       "      <td>1000</td>\n",
       "      <td>739</td>\n",
       "      <td>images/330/76/1270453.jpg</td>\n",
       "      <td>33076</td>\n",
       "    </tr>\n",
       "    <tr>\n",
       "      <th>3</th>\n",
       "      <td>1123834</td>\n",
       "      <td>1000</td>\n",
       "      <td>672</td>\n",
       "      <td>images/247/99/1123834.jpg</td>\n",
       "      <td>24799</td>\n",
       "    </tr>\n",
       "    <tr>\n",
       "      <th>4</th>\n",
       "      <td>1042410</td>\n",
       "      <td>1000</td>\n",
       "      <td>675</td>\n",
       "      <td>images/170/18/1042410.jpg</td>\n",
       "      <td>17018</td>\n",
       "    </tr>\n",
       "  </tbody>\n",
       "</table>\n",
       "</div>"
      ],
      "text/plain": [
       "        id  height  width                       path  category_id\n",
       "0  1814367    1000    678  images/604/92/1814367.jpg        60492\n",
       "1  1308257    1000    666  images/108/24/1308257.jpg        10824\n",
       "2  1270453    1000    739  images/330/76/1270453.jpg        33076\n",
       "3  1123834    1000    672  images/247/99/1123834.jpg        24799\n",
       "4  1042410    1000    675  images/170/18/1042410.jpg        17018"
      ]
     },
     "execution_count": 6,
     "metadata": {},
     "output_type": "execute_result"
    }
   ],
   "source": [
    "ids, categories, paths, heights, widths = [], [], [], [], []\n",
    "\n",
    "for annotation, image in zip(metadata[\"annotations\"], metadata[\"images\"]):\n",
    "    assert annotation[\"image_id\"] == image[\"id\"]\n",
    "    ids.append(image[\"id\"])\n",
    "    paths.append(image[\"file_name\"])\n",
    "    heights.append(image['height'])\n",
    "    widths.append(image['width'])\n",
    "    categories.append(annotation[\"category_id\"])\n",
    "        \n",
    "df_meta = pd.DataFrame({\"id\": ids, \"height\": heights, \"width\": widths, \"path\": paths, \"category_id\": categories})\n",
    "df_meta.head()"
   ]
  },
  {
   "cell_type": "code",
   "execution_count": 7,
   "id": "1d132981",
   "metadata": {
    "execution": {
     "iopub.execute_input": "2022-03-20T06:49:21.409033Z",
     "iopub.status.busy": "2022-03-20T06:49:21.388161Z",
     "iopub.status.idle": "2022-03-20T06:49:22.943559Z",
     "shell.execute_reply": "2022-03-20T06:49:22.942986Z",
     "shell.execute_reply.started": "2022-03-20T06:19:07.160811Z"
    },
    "papermill": {
     "duration": 1.604409,
     "end_time": "2022-03-20T06:49:22.943692",
     "exception": false,
     "start_time": "2022-03-20T06:49:21.339283",
     "status": "completed"
    },
    "tags": []
   },
   "outputs": [
    {
     "data": {
      "text/html": [
       "<div>\n",
       "<style scoped>\n",
       "    .dataframe tbody tr th:only-of-type {\n",
       "        vertical-align: middle;\n",
       "    }\n",
       "\n",
       "    .dataframe tbody tr th {\n",
       "        vertical-align: top;\n",
       "    }\n",
       "\n",
       "    .dataframe thead th {\n",
       "        text-align: right;\n",
       "    }\n",
       "</style>\n",
       "<table border=\"1\" class=\"dataframe\">\n",
       "  <thead>\n",
       "    <tr style=\"text-align: right;\">\n",
       "      <th></th>\n",
       "      <th>id</th>\n",
       "      <th>height</th>\n",
       "      <th>width</th>\n",
       "      <th>path</th>\n",
       "      <th>category_name</th>\n",
       "      <th>family_name</th>\n",
       "      <th>order_name</th>\n",
       "      <th>category_id</th>\n",
       "    </tr>\n",
       "  </thead>\n",
       "  <tbody>\n",
       "    <tr>\n",
       "      <th>0</th>\n",
       "      <td>1814367</td>\n",
       "      <td>1000</td>\n",
       "      <td>678</td>\n",
       "      <td>images/604/92/1814367.jpg</td>\n",
       "      <td>Thysanocarpus curvipes Hook.</td>\n",
       "      <td>Brassicaceae</td>\n",
       "      <td>Brassicales</td>\n",
       "      <td>60492</td>\n",
       "    </tr>\n",
       "    <tr>\n",
       "      <th>1</th>\n",
       "      <td>1308257</td>\n",
       "      <td>1000</td>\n",
       "      <td>666</td>\n",
       "      <td>images/108/24/1308257.jpg</td>\n",
       "      <td>Cassia grandis L.f.</td>\n",
       "      <td>Fabaceae</td>\n",
       "      <td>Fabales</td>\n",
       "      <td>10824</td>\n",
       "    </tr>\n",
       "    <tr>\n",
       "      <th>2</th>\n",
       "      <td>1270453</td>\n",
       "      <td>1000</td>\n",
       "      <td>739</td>\n",
       "      <td>images/330/76/1270453.jpg</td>\n",
       "      <td>Leptospermum whitei Cheel</td>\n",
       "      <td>Myrtaceae</td>\n",
       "      <td>Myrtales</td>\n",
       "      <td>33076</td>\n",
       "    </tr>\n",
       "    <tr>\n",
       "      <th>3</th>\n",
       "      <td>1123834</td>\n",
       "      <td>1000</td>\n",
       "      <td>672</td>\n",
       "      <td>images/247/99/1123834.jpg</td>\n",
       "      <td>Fallopia scandens (L.) Holub</td>\n",
       "      <td>Polygonaceae</td>\n",
       "      <td>Caryophyllales</td>\n",
       "      <td>24799</td>\n",
       "    </tr>\n",
       "    <tr>\n",
       "      <th>4</th>\n",
       "      <td>1042410</td>\n",
       "      <td>1000</td>\n",
       "      <td>675</td>\n",
       "      <td>images/170/18/1042410.jpg</td>\n",
       "      <td>Cyperus dentatus Torr.</td>\n",
       "      <td>Cyperaceae</td>\n",
       "      <td>Poales</td>\n",
       "      <td>17018</td>\n",
       "    </tr>\n",
       "  </tbody>\n",
       "</table>\n",
       "</div>"
      ],
      "text/plain": [
       "        id  height  width                       path  \\\n",
       "0  1814367    1000    678  images/604/92/1814367.jpg   \n",
       "1  1308257    1000    666  images/108/24/1308257.jpg   \n",
       "2  1270453    1000    739  images/330/76/1270453.jpg   \n",
       "3  1123834    1000    672  images/247/99/1123834.jpg   \n",
       "4  1042410    1000    675  images/170/18/1042410.jpg   \n",
       "\n",
       "                  category_name   family_name      order_name  category_id  \n",
       "0  Thysanocarpus curvipes Hook.  Brassicaceae     Brassicales        60492  \n",
       "1           Cassia grandis L.f.      Fabaceae         Fabales        10824  \n",
       "2     Leptospermum whitei Cheel     Myrtaceae        Myrtales        33076  \n",
       "3  Fallopia scandens (L.) Holub  Polygonaceae  Caryophyllales        24799  \n",
       "4        Cyperus dentatus Torr.    Cyperaceae          Poales        17018  "
      ]
     },
     "execution_count": 7,
     "metadata": {},
     "output_type": "execute_result"
    }
   ],
   "source": [
    "d_categories = {category[\"id\"]: category[\"name\"] for category in metadata[\"categories\"]}\n",
    "d_families = {category[\"id\"]: category[\"family\"] for category in metadata[\"categories\"]}\n",
    "d_orders = {category[\"id\"]: category[\"order\"] for category in metadata[\"categories\"]}\n",
    "\n",
    "df_meta[\"category_name\"] = df_meta[\"category_id\"].map(d_categories)\n",
    "df_meta[\"family_name\"] = df_meta[\"category_id\"].map(d_families)\n",
    "df_meta[\"order_name\"] = df_meta[\"category_id\"].map(d_orders)\n",
    "df_meta = df_meta.reindex(columns = [col for col in df_meta.columns if col != 'category_id'] + ['category_id']) # move dependent variable to the end\n",
    "df_meta.head()"
   ]
  },
  {
   "cell_type": "markdown",
   "id": "db31872b",
   "metadata": {
    "papermill": {
     "duration": 0.022658,
     "end_time": "2022-03-20T06:49:22.989332",
     "exception": false,
     "start_time": "2022-03-20T06:49:22.966674",
     "status": "completed"
    },
    "tags": []
   },
   "source": [
    "check for any inconsistencies (duplicated, null etc)"
   ]
  },
  {
   "cell_type": "code",
   "execution_count": 8,
   "id": "4c87f405",
   "metadata": {
    "execution": {
     "iopub.execute_input": "2022-03-20T06:49:23.041036Z",
     "iopub.status.busy": "2022-03-20T06:49:23.040132Z",
     "iopub.status.idle": "2022-03-20T06:49:28.252783Z",
     "shell.execute_reply": "2022-03-20T06:49:28.251915Z",
     "shell.execute_reply.started": "2022-03-20T06:24:42.492660Z"
    },
    "papermill": {
     "duration": 5.240517,
     "end_time": "2022-03-20T06:49:28.252955",
     "exception": false,
     "start_time": "2022-03-20T06:49:23.012438",
     "status": "completed"
    },
    "tags": []
   },
   "outputs": [
    {
     "name": "stdout",
     "output_type": "stream",
     "text": [
      "0\n",
      "id               0\n",
      "height           0\n",
      "width            0\n",
      "path             0\n",
      "category_name    0\n",
      "family_name      0\n",
      "order_name       0\n",
      "category_id      0\n",
      "dtype: int64\n"
     ]
    }
   ],
   "source": [
    "print(df_meta.duplicated().sum())\n",
    "print(df_meta.isnull().sum())"
   ]
  },
  {
   "cell_type": "markdown",
   "id": "26b4fca1",
   "metadata": {
    "papermill": {
     "duration": 0.023219,
     "end_time": "2022-03-20T06:49:28.300647",
     "exception": false,
     "start_time": "2022-03-20T06:49:28.277428",
     "status": "completed"
    },
    "tags": []
   },
   "source": [
    "now that the metadata is cleaned up, we can perform EDA."
   ]
  },
  {
   "cell_type": "markdown",
   "id": "1eee28a1",
   "metadata": {
    "papermill": {
     "duration": 0.024058,
     "end_time": "2022-03-20T06:49:28.348584",
     "exception": false,
     "start_time": "2022-03-20T06:49:28.324526",
     "status": "completed"
    },
    "tags": []
   },
   "source": [
    "# EDA"
   ]
  },
  {
   "cell_type": "code",
   "execution_count": null,
   "id": "85365171",
   "metadata": {
    "papermill": {
     "duration": 0.023099,
     "end_time": "2022-03-20T06:49:28.396544",
     "exception": false,
     "start_time": "2022-03-20T06:49:28.373445",
     "status": "completed"
    },
    "tags": []
   },
   "outputs": [],
   "source": []
  }
 ],
 "metadata": {
  "kernelspec": {
   "display_name": "Python 3",
   "language": "python",
   "name": "python3"
  },
  "language_info": {
   "codemirror_mode": {
    "name": "ipython",
    "version": 3
   },
   "file_extension": ".py",
   "mimetype": "text/x-python",
   "name": "python",
   "nbconvert_exporter": "python",
   "pygments_lexer": "ipython3",
   "version": "3.7.12"
  },
  "papermill": {
   "default_parameters": {},
   "duration": 40.661977,
   "end_time": "2022-03-20T06:49:31.028422",
   "environment_variables": {},
   "exception": null,
   "input_path": "__notebook__.ipynb",
   "output_path": "__notebook__.ipynb",
   "parameters": {},
   "start_time": "2022-03-20T06:48:50.366445",
   "version": "2.3.3"
  }
 },
 "nbformat": 4,
 "nbformat_minor": 5
}
